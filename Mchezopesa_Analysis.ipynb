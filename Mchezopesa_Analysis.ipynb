{
  "nbformat": 4,
  "nbformat_minor": 0,
  "metadata": {
    "colab": {
      "name": "Mchezopesa_Analysis.ipynb",
      "version": "0.3.2",
      "provenance": [],
      "collapsed_sections": [],
      "toc_visible": true,
      "machine_shape": "hm",
      "include_colab_link": true
    },
    "kernelspec": {
      "name": "python3",
      "display_name": "Python 3"
    },
    "accelerator": "GPU"
  },
  "cells": [
    {
      "cell_type": "markdown",
      "metadata": {
        "id": "view-in-github",
        "colab_type": "text"
      },
      "source": [
        "<a href=\"https://colab.research.google.com/github/Linda-Agesa/Mchezopesa-Football-Analysis/blob/master/Mchezopesa_Analysis.ipynb\" target=\"_parent\"><img src=\"https://colab.research.google.com/assets/colab-badge.svg\" alt=\"Open In Colab\"/></a>"
      ]
    },
    {
      "cell_type": "markdown",
      "metadata": {
        "id": "jq5tEj2-CfIR",
        "colab_type": "text"
      },
      "source": [
        "# Mchezopesa Football Analysis"
      ]
    },
    {
      "cell_type": "markdown",
      "metadata": {
        "id": "r3RDdHF27tMr",
        "colab_type": "text"
      },
      "source": [
        "## Context \n",
        "\n",
        "> Fifa World Ranking is a ranking system for men's national teams in association football. The teams of the men's member nations of FIFA, football's world governing body, are ranked based on their game results with the most successful teams being ranked highest. A point system is used, points being awarded based on the results of all FIFA recognized international matches."
      ]
    },
    {
      "cell_type": "markdown",
      "metadata": {
        "id": "5VmhmyNR7tJR",
        "colab_type": "text"
      },
      "source": [
        "## Problem Statement\n",
        "\n",
        ">As a data analyst at Mchezo Ltd, the following task is required of you: Make a prediction of a game between team 1 and team 2 , based on who's home and who's away and on whether or not the game is friendly.\n",
        ">### Result Prediction : Polynomial Approach \n",
        ">\n",
        ">$ Model$ $1$ $:$ $Predict$ $how$ $many$ $goals$ $the$\n",
        "$home$ $team$ $scores$\n",
        ">\n",
        ">$Model$ $2$ $:$ $Predict$ $how$ $many$ $goals$ $the$ $away$ $team$ $scores$\n",
        ">\n",
        ">\n",
        ">### Classify Match Outcome : Logistic Approach\n",
        "> Figure as out and classify from the home teams perspective if a game between two teams results in a win, loss or a draw.\n"
      ]
    },
    {
      "cell_type": "markdown",
      "metadata": {
        "id": "t--Sn9Db7tD5",
        "colab_type": "text"
      },
      "source": [
        "## Research Design\n",
        ">True Experimental Research Design\n",
        ">This is the methodology we will to use for this research >experiment.\n",
        ">\n",
        ">A true experiment research design is a type of experimental design used to test and reject or fail to reject a hypothesis by using statistical analysis as the means of investigation. This type of experiment can also be used to determine cause and effect relationships within groups.\n",
        ">\n",
        ">The following are the assumptions that must be satisfied in\n",
        "order to use the true experiment research design :\n",
        ">\n",
        "> - Control group and experimental group\n",
        "> - Researcher - manipulated variable(s)\n",
        "> - Random distribution"
      ]
    },
    {
      "cell_type": "markdown",
      "metadata": {
        "id": "KDT-IWaa7tBG",
        "colab_type": "text"
      },
      "source": [
        "## Metrics for Success\n",
        "\n",
        "> - An RMSE score that is less than 20% of the target mean\n",
        "> - An accuracy score of 86% and above"
      ]
    },
    {
      "cell_type": "markdown",
      "metadata": {
        "id": "tGLUYRAR7s-K",
        "colab_type": "text"
      },
      "source": [
        "## Project Plan\n",
        "\n",
        "> This project was carried out using the following procession:\n",
        ">\n",
        "> 1. Understanding the context of the business and \n",
        "> 2. Definition of the problem statement .\n",
        "> 3. Determining the metrics for evaluation.\n",
        "> 4. Collection of data\n",
        "> 5. Exploratory Data Analysis.\n",
        "> 6. Data preparation and cleaning.\n",
        "> 7. Implementing the solution:\n",
        "> 8. Prediction\n",
        "> 9. Evaluation of the solution\n",
        "> 11. Challenging the solution\n",
        "> 12. Summary of findings\n",
        "> 13. Conclusion"
      ]
    },
    {
      "cell_type": "markdown",
      "metadata": {
        "id": "Bq33rota7s6y",
        "colab_type": "text"
      },
      "source": [
        "## Loading Our Libraries and Files"
      ]
    },
    {
      "cell_type": "markdown",
      "metadata": {
        "id": "77NhUwhaK4Gb",
        "colab_type": "text"
      },
      "source": [
        "### Importing Our Libraries"
      ]
    },
    {
      "cell_type": "code",
      "metadata": {
        "id": "MoUZTGIpHLR4",
        "colab_type": "code",
        "colab": {}
      },
      "source": [
        "# Lets load all the necessary libraries for our workflow.\n",
        "#\n",
        "# Analysis libraries\n",
        "\n",
        "import pandas as pd\n",
        "import numpy as np\n",
        "import matplotlib.pyplot as plt\n",
        "import seaborn as sns\n",
        "import scipy as sp\n",
        "\n",
        "# Machine learning libraries\n",
        "\n",
        "from sklearn.preprocessing import LabelEncoder\n",
        "from sklearn.preprocessing import StandardScaler, PolynomialFeatures\n",
        "from sklearn.decomposition import PCA\n",
        "from sklearn.model_selection import train_test_split\n",
        "from sklearn.linear_model import LinearRegression, LogisticRegression\n",
        "from sklearn.metrics import mean_squared_error, f1_score, accuracy_score, confusion_matrix\n",
        "\n",
        "# Other libraries\n",
        "import datetime as dt\n"
      ],
      "execution_count": 0,
      "outputs": []
    },
    {
      "cell_type": "markdown",
      "metadata": {
        "id": "dmKJh17cK-d0",
        "colab_type": "text"
      },
      "source": [
        "### Importing Files"
      ]
    },
    {
      "cell_type": "code",
      "metadata": {
        "id": "Y0qxfmH8LCC5",
        "colab_type": "code",
        "colab": {}
      },
      "source": [
        "# Loading the files to our environment\n",
        "#\n",
        "fifa_ranks = pd.read_csv('fifa_ranking.csv')\n",
        "\n",
        "match_results = pd.read_csv('results.csv')"
      ],
      "execution_count": 0,
      "outputs": []
    },
    {
      "cell_type": "markdown",
      "metadata": {
        "id": "9I2KsS8L7swR",
        "colab_type": "text"
      },
      "source": [
        "## Data Cleaning"
      ]
    },
    {
      "cell_type": "code",
      "metadata": {
        "id": "vPq1XoY-7p5C",
        "colab_type": "code",
        "outputId": "8fdb6ba0-b86a-40f6-872a-8885e78e51f6",
        "colab": {
          "base_uri": "https://localhost:8080/",
          "height": 304
        }
      },
      "source": [
        "# Displaying the first five records of the ranking dataset\n",
        "\n",
        "fifa_ranks.head()"
      ],
      "execution_count": 168,
      "outputs": [
        {
          "output_type": "execute_result",
          "data": {
            "text/html": [
              "<div>\n",
              "<style scoped>\n",
              "    .dataframe tbody tr th:only-of-type {\n",
              "        vertical-align: middle;\n",
              "    }\n",
              "\n",
              "    .dataframe tbody tr th {\n",
              "        vertical-align: top;\n",
              "    }\n",
              "\n",
              "    .dataframe thead th {\n",
              "        text-align: right;\n",
              "    }\n",
              "</style>\n",
              "<table border=\"1\" class=\"dataframe\">\n",
              "  <thead>\n",
              "    <tr style=\"text-align: right;\">\n",
              "      <th></th>\n",
              "      <th>rank</th>\n",
              "      <th>country_full</th>\n",
              "      <th>country_abrv</th>\n",
              "      <th>total_points</th>\n",
              "      <th>previous_points</th>\n",
              "      <th>rank_change</th>\n",
              "      <th>cur_year_avg</th>\n",
              "      <th>cur_year_avg_weighted</th>\n",
              "      <th>last_year_avg</th>\n",
              "      <th>last_year_avg_weighted</th>\n",
              "      <th>two_year_ago_avg</th>\n",
              "      <th>two_year_ago_weighted</th>\n",
              "      <th>three_year_ago_avg</th>\n",
              "      <th>three_year_ago_weighted</th>\n",
              "      <th>confederation</th>\n",
              "      <th>rank_date</th>\n",
              "    </tr>\n",
              "  </thead>\n",
              "  <tbody>\n",
              "    <tr>\n",
              "      <th>0</th>\n",
              "      <td>1</td>\n",
              "      <td>Germany</td>\n",
              "      <td>GER</td>\n",
              "      <td>0.0</td>\n",
              "      <td>57</td>\n",
              "      <td>0</td>\n",
              "      <td>0.0</td>\n",
              "      <td>0.0</td>\n",
              "      <td>0.0</td>\n",
              "      <td>0.0</td>\n",
              "      <td>0.0</td>\n",
              "      <td>0.0</td>\n",
              "      <td>0.0</td>\n",
              "      <td>0.0</td>\n",
              "      <td>UEFA</td>\n",
              "      <td>1993-08-08</td>\n",
              "    </tr>\n",
              "    <tr>\n",
              "      <th>1</th>\n",
              "      <td>2</td>\n",
              "      <td>Italy</td>\n",
              "      <td>ITA</td>\n",
              "      <td>0.0</td>\n",
              "      <td>57</td>\n",
              "      <td>0</td>\n",
              "      <td>0.0</td>\n",
              "      <td>0.0</td>\n",
              "      <td>0.0</td>\n",
              "      <td>0.0</td>\n",
              "      <td>0.0</td>\n",
              "      <td>0.0</td>\n",
              "      <td>0.0</td>\n",
              "      <td>0.0</td>\n",
              "      <td>UEFA</td>\n",
              "      <td>1993-08-08</td>\n",
              "    </tr>\n",
              "    <tr>\n",
              "      <th>2</th>\n",
              "      <td>3</td>\n",
              "      <td>Switzerland</td>\n",
              "      <td>SUI</td>\n",
              "      <td>0.0</td>\n",
              "      <td>50</td>\n",
              "      <td>9</td>\n",
              "      <td>0.0</td>\n",
              "      <td>0.0</td>\n",
              "      <td>0.0</td>\n",
              "      <td>0.0</td>\n",
              "      <td>0.0</td>\n",
              "      <td>0.0</td>\n",
              "      <td>0.0</td>\n",
              "      <td>0.0</td>\n",
              "      <td>UEFA</td>\n",
              "      <td>1993-08-08</td>\n",
              "    </tr>\n",
              "    <tr>\n",
              "      <th>3</th>\n",
              "      <td>4</td>\n",
              "      <td>Sweden</td>\n",
              "      <td>SWE</td>\n",
              "      <td>0.0</td>\n",
              "      <td>55</td>\n",
              "      <td>0</td>\n",
              "      <td>0.0</td>\n",
              "      <td>0.0</td>\n",
              "      <td>0.0</td>\n",
              "      <td>0.0</td>\n",
              "      <td>0.0</td>\n",
              "      <td>0.0</td>\n",
              "      <td>0.0</td>\n",
              "      <td>0.0</td>\n",
              "      <td>UEFA</td>\n",
              "      <td>1993-08-08</td>\n",
              "    </tr>\n",
              "    <tr>\n",
              "      <th>4</th>\n",
              "      <td>5</td>\n",
              "      <td>Argentina</td>\n",
              "      <td>ARG</td>\n",
              "      <td>0.0</td>\n",
              "      <td>51</td>\n",
              "      <td>5</td>\n",
              "      <td>0.0</td>\n",
              "      <td>0.0</td>\n",
              "      <td>0.0</td>\n",
              "      <td>0.0</td>\n",
              "      <td>0.0</td>\n",
              "      <td>0.0</td>\n",
              "      <td>0.0</td>\n",
              "      <td>0.0</td>\n",
              "      <td>CONMEBOL</td>\n",
              "      <td>1993-08-08</td>\n",
              "    </tr>\n",
              "  </tbody>\n",
              "</table>\n",
              "</div>"
            ],
            "text/plain": [
              "   rank country_full  ... confederation   rank_date\n",
              "0     1      Germany  ...          UEFA  1993-08-08\n",
              "1     2        Italy  ...          UEFA  1993-08-08\n",
              "2     3  Switzerland  ...          UEFA  1993-08-08\n",
              "3     4       Sweden  ...          UEFA  1993-08-08\n",
              "4     5    Argentina  ...      CONMEBOL  1993-08-08\n",
              "\n",
              "[5 rows x 16 columns]"
            ]
          },
          "metadata": {
            "tags": []
          },
          "execution_count": 168
        }
      ]
    },
    {
      "cell_type": "code",
      "metadata": {
        "id": "4kCh8wQ6OFqn",
        "colab_type": "code",
        "outputId": "d3e02311-c5c5-42d4-8d8d-010ac4b69105",
        "colab": {
          "base_uri": "https://localhost:8080/",
          "height": 304
        }
      },
      "source": [
        "# Displaying the last 5 records of the ranking dataset\n",
        "#\n",
        "fifa_ranks.tail()"
      ],
      "execution_count": 169,
      "outputs": [
        {
          "output_type": "execute_result",
          "data": {
            "text/html": [
              "<div>\n",
              "<style scoped>\n",
              "    .dataframe tbody tr th:only-of-type {\n",
              "        vertical-align: middle;\n",
              "    }\n",
              "\n",
              "    .dataframe tbody tr th {\n",
              "        vertical-align: top;\n",
              "    }\n",
              "\n",
              "    .dataframe thead th {\n",
              "        text-align: right;\n",
              "    }\n",
              "</style>\n",
              "<table border=\"1\" class=\"dataframe\">\n",
              "  <thead>\n",
              "    <tr style=\"text-align: right;\">\n",
              "      <th></th>\n",
              "      <th>rank</th>\n",
              "      <th>country_full</th>\n",
              "      <th>country_abrv</th>\n",
              "      <th>total_points</th>\n",
              "      <th>previous_points</th>\n",
              "      <th>rank_change</th>\n",
              "      <th>cur_year_avg</th>\n",
              "      <th>cur_year_avg_weighted</th>\n",
              "      <th>last_year_avg</th>\n",
              "      <th>last_year_avg_weighted</th>\n",
              "      <th>two_year_ago_avg</th>\n",
              "      <th>two_year_ago_weighted</th>\n",
              "      <th>three_year_ago_avg</th>\n",
              "      <th>three_year_ago_weighted</th>\n",
              "      <th>confederation</th>\n",
              "      <th>rank_date</th>\n",
              "    </tr>\n",
              "  </thead>\n",
              "  <tbody>\n",
              "    <tr>\n",
              "      <th>57788</th>\n",
              "      <td>206</td>\n",
              "      <td>Anguilla</td>\n",
              "      <td>AIA</td>\n",
              "      <td>0.0</td>\n",
              "      <td>0</td>\n",
              "      <td>1</td>\n",
              "      <td>0.0</td>\n",
              "      <td>0.0</td>\n",
              "      <td>0.0</td>\n",
              "      <td>0.0</td>\n",
              "      <td>0.0</td>\n",
              "      <td>0.0</td>\n",
              "      <td>0.0</td>\n",
              "      <td>0.0</td>\n",
              "      <td>CONCACAF</td>\n",
              "      <td>2018-06-07</td>\n",
              "    </tr>\n",
              "    <tr>\n",
              "      <th>57789</th>\n",
              "      <td>206</td>\n",
              "      <td>Bahamas</td>\n",
              "      <td>BAH</td>\n",
              "      <td>0.0</td>\n",
              "      <td>0</td>\n",
              "      <td>1</td>\n",
              "      <td>0.0</td>\n",
              "      <td>0.0</td>\n",
              "      <td>0.0</td>\n",
              "      <td>0.0</td>\n",
              "      <td>0.0</td>\n",
              "      <td>0.0</td>\n",
              "      <td>0.0</td>\n",
              "      <td>0.0</td>\n",
              "      <td>CONCACAF</td>\n",
              "      <td>2018-06-07</td>\n",
              "    </tr>\n",
              "    <tr>\n",
              "      <th>57790</th>\n",
              "      <td>206</td>\n",
              "      <td>Eritrea</td>\n",
              "      <td>ERI</td>\n",
              "      <td>0.0</td>\n",
              "      <td>0</td>\n",
              "      <td>1</td>\n",
              "      <td>0.0</td>\n",
              "      <td>0.0</td>\n",
              "      <td>0.0</td>\n",
              "      <td>0.0</td>\n",
              "      <td>0.0</td>\n",
              "      <td>0.0</td>\n",
              "      <td>0.0</td>\n",
              "      <td>0.0</td>\n",
              "      <td>CAF</td>\n",
              "      <td>2018-06-07</td>\n",
              "    </tr>\n",
              "    <tr>\n",
              "      <th>57791</th>\n",
              "      <td>206</td>\n",
              "      <td>Somalia</td>\n",
              "      <td>SOM</td>\n",
              "      <td>0.0</td>\n",
              "      <td>0</td>\n",
              "      <td>1</td>\n",
              "      <td>0.0</td>\n",
              "      <td>0.0</td>\n",
              "      <td>0.0</td>\n",
              "      <td>0.0</td>\n",
              "      <td>0.0</td>\n",
              "      <td>0.0</td>\n",
              "      <td>0.0</td>\n",
              "      <td>0.0</td>\n",
              "      <td>CAF</td>\n",
              "      <td>2018-06-07</td>\n",
              "    </tr>\n",
              "    <tr>\n",
              "      <th>57792</th>\n",
              "      <td>206</td>\n",
              "      <td>Tonga</td>\n",
              "      <td>TGA</td>\n",
              "      <td>0.0</td>\n",
              "      <td>0</td>\n",
              "      <td>1</td>\n",
              "      <td>0.0</td>\n",
              "      <td>0.0</td>\n",
              "      <td>0.0</td>\n",
              "      <td>0.0</td>\n",
              "      <td>0.0</td>\n",
              "      <td>0.0</td>\n",
              "      <td>0.0</td>\n",
              "      <td>0.0</td>\n",
              "      <td>OFC</td>\n",
              "      <td>2018-06-07</td>\n",
              "    </tr>\n",
              "  </tbody>\n",
              "</table>\n",
              "</div>"
            ],
            "text/plain": [
              "       rank country_full  ... confederation   rank_date\n",
              "57788   206     Anguilla  ...      CONCACAF  2018-06-07\n",
              "57789   206      Bahamas  ...      CONCACAF  2018-06-07\n",
              "57790   206      Eritrea  ...           CAF  2018-06-07\n",
              "57791   206      Somalia  ...           CAF  2018-06-07\n",
              "57792   206        Tonga  ...           OFC  2018-06-07\n",
              "\n",
              "[5 rows x 16 columns]"
            ]
          },
          "metadata": {
            "tags": []
          },
          "execution_count": 169
        }
      ]
    },
    {
      "cell_type": "code",
      "metadata": {
        "id": "KyKICp_5OgUf",
        "colab_type": "code",
        "outputId": "48e320a0-6afb-4e50-e2fe-6e0b82e4905a",
        "colab": {
          "base_uri": "https://localhost:8080/",
          "height": 199
        }
      },
      "source": [
        "# Exhibiting the first few rows of the results dataset\n",
        "\n",
        "match_results.head()"
      ],
      "execution_count": 170,
      "outputs": [
        {
          "output_type": "execute_result",
          "data": {
            "text/html": [
              "<div>\n",
              "<style scoped>\n",
              "    .dataframe tbody tr th:only-of-type {\n",
              "        vertical-align: middle;\n",
              "    }\n",
              "\n",
              "    .dataframe tbody tr th {\n",
              "        vertical-align: top;\n",
              "    }\n",
              "\n",
              "    .dataframe thead th {\n",
              "        text-align: right;\n",
              "    }\n",
              "</style>\n",
              "<table border=\"1\" class=\"dataframe\">\n",
              "  <thead>\n",
              "    <tr style=\"text-align: right;\">\n",
              "      <th></th>\n",
              "      <th>date</th>\n",
              "      <th>home_team</th>\n",
              "      <th>away_team</th>\n",
              "      <th>home_score</th>\n",
              "      <th>away_score</th>\n",
              "      <th>tournament</th>\n",
              "      <th>city</th>\n",
              "      <th>country</th>\n",
              "      <th>neutral</th>\n",
              "    </tr>\n",
              "  </thead>\n",
              "  <tbody>\n",
              "    <tr>\n",
              "      <th>0</th>\n",
              "      <td>1872-11-30</td>\n",
              "      <td>Scotland</td>\n",
              "      <td>England</td>\n",
              "      <td>0</td>\n",
              "      <td>0</td>\n",
              "      <td>Friendly</td>\n",
              "      <td>Glasgow</td>\n",
              "      <td>Scotland</td>\n",
              "      <td>False</td>\n",
              "    </tr>\n",
              "    <tr>\n",
              "      <th>1</th>\n",
              "      <td>1873-03-08</td>\n",
              "      <td>England</td>\n",
              "      <td>Scotland</td>\n",
              "      <td>4</td>\n",
              "      <td>2</td>\n",
              "      <td>Friendly</td>\n",
              "      <td>London</td>\n",
              "      <td>England</td>\n",
              "      <td>False</td>\n",
              "    </tr>\n",
              "    <tr>\n",
              "      <th>2</th>\n",
              "      <td>1874-03-07</td>\n",
              "      <td>Scotland</td>\n",
              "      <td>England</td>\n",
              "      <td>2</td>\n",
              "      <td>1</td>\n",
              "      <td>Friendly</td>\n",
              "      <td>Glasgow</td>\n",
              "      <td>Scotland</td>\n",
              "      <td>False</td>\n",
              "    </tr>\n",
              "    <tr>\n",
              "      <th>3</th>\n",
              "      <td>1875-03-06</td>\n",
              "      <td>England</td>\n",
              "      <td>Scotland</td>\n",
              "      <td>2</td>\n",
              "      <td>2</td>\n",
              "      <td>Friendly</td>\n",
              "      <td>London</td>\n",
              "      <td>England</td>\n",
              "      <td>False</td>\n",
              "    </tr>\n",
              "    <tr>\n",
              "      <th>4</th>\n",
              "      <td>1876-03-04</td>\n",
              "      <td>Scotland</td>\n",
              "      <td>England</td>\n",
              "      <td>3</td>\n",
              "      <td>0</td>\n",
              "      <td>Friendly</td>\n",
              "      <td>Glasgow</td>\n",
              "      <td>Scotland</td>\n",
              "      <td>False</td>\n",
              "    </tr>\n",
              "  </tbody>\n",
              "</table>\n",
              "</div>"
            ],
            "text/plain": [
              "         date home_team away_team  ...     city   country neutral\n",
              "0  1872-11-30  Scotland   England  ...  Glasgow  Scotland   False\n",
              "1  1873-03-08   England  Scotland  ...   London   England   False\n",
              "2  1874-03-07  Scotland   England  ...  Glasgow  Scotland   False\n",
              "3  1875-03-06   England  Scotland  ...   London   England   False\n",
              "4  1876-03-04  Scotland   England  ...  Glasgow  Scotland   False\n",
              "\n",
              "[5 rows x 9 columns]"
            ]
          },
          "metadata": {
            "tags": []
          },
          "execution_count": 170
        }
      ]
    },
    {
      "cell_type": "code",
      "metadata": {
        "id": "-_SpyBAeO79t",
        "colab_type": "code",
        "outputId": "7507c96c-9dbc-4ef3-9b37-9bbdf9e24d19",
        "colab": {
          "base_uri": "https://localhost:8080/",
          "height": 284
        }
      },
      "source": [
        "# Lets display the last few rows of the results dataset\n",
        "\n",
        "match_results.tail()"
      ],
      "execution_count": 171,
      "outputs": [
        {
          "output_type": "execute_result",
          "data": {
            "text/html": [
              "<div>\n",
              "<style scoped>\n",
              "    .dataframe tbody tr th:only-of-type {\n",
              "        vertical-align: middle;\n",
              "    }\n",
              "\n",
              "    .dataframe tbody tr th {\n",
              "        vertical-align: top;\n",
              "    }\n",
              "\n",
              "    .dataframe thead th {\n",
              "        text-align: right;\n",
              "    }\n",
              "</style>\n",
              "<table border=\"1\" class=\"dataframe\">\n",
              "  <thead>\n",
              "    <tr style=\"text-align: right;\">\n",
              "      <th></th>\n",
              "      <th>date</th>\n",
              "      <th>home_team</th>\n",
              "      <th>away_team</th>\n",
              "      <th>home_score</th>\n",
              "      <th>away_score</th>\n",
              "      <th>tournament</th>\n",
              "      <th>city</th>\n",
              "      <th>country</th>\n",
              "      <th>neutral</th>\n",
              "    </tr>\n",
              "  </thead>\n",
              "  <tbody>\n",
              "    <tr>\n",
              "      <th>40834</th>\n",
              "      <td>2019-07-18</td>\n",
              "      <td>American Samoa</td>\n",
              "      <td>Tahiti</td>\n",
              "      <td>8</td>\n",
              "      <td>1</td>\n",
              "      <td>Pacific Games</td>\n",
              "      <td>Apia</td>\n",
              "      <td>Samoa</td>\n",
              "      <td>True</td>\n",
              "    </tr>\n",
              "    <tr>\n",
              "      <th>40835</th>\n",
              "      <td>2019-07-18</td>\n",
              "      <td>Fiji</td>\n",
              "      <td>Solomon Islands</td>\n",
              "      <td>4</td>\n",
              "      <td>4</td>\n",
              "      <td>Pacific Games</td>\n",
              "      <td>Apia</td>\n",
              "      <td>Samoa</td>\n",
              "      <td>True</td>\n",
              "    </tr>\n",
              "    <tr>\n",
              "      <th>40836</th>\n",
              "      <td>2019-07-19</td>\n",
              "      <td>Senegal</td>\n",
              "      <td>Algeria</td>\n",
              "      <td>0</td>\n",
              "      <td>1</td>\n",
              "      <td>African Cup of Nations</td>\n",
              "      <td>Cairo</td>\n",
              "      <td>Egypt</td>\n",
              "      <td>True</td>\n",
              "    </tr>\n",
              "    <tr>\n",
              "      <th>40837</th>\n",
              "      <td>2019-07-19</td>\n",
              "      <td>Tajikistan</td>\n",
              "      <td>North Korea</td>\n",
              "      <td>0</td>\n",
              "      <td>1</td>\n",
              "      <td>Intercontinental Cup</td>\n",
              "      <td>Ahmedabad</td>\n",
              "      <td>India</td>\n",
              "      <td>True</td>\n",
              "    </tr>\n",
              "    <tr>\n",
              "      <th>40838</th>\n",
              "      <td>2019-07-20</td>\n",
              "      <td>Papua New Guinea</td>\n",
              "      <td>Fiji</td>\n",
              "      <td>1</td>\n",
              "      <td>1</td>\n",
              "      <td>Pacific Games</td>\n",
              "      <td>Apia</td>\n",
              "      <td>Samoa</td>\n",
              "      <td>True</td>\n",
              "    </tr>\n",
              "  </tbody>\n",
              "</table>\n",
              "</div>"
            ],
            "text/plain": [
              "             date         home_team  ... country  neutral\n",
              "40834  2019-07-18    American Samoa  ...   Samoa     True\n",
              "40835  2019-07-18              Fiji  ...   Samoa     True\n",
              "40836  2019-07-19           Senegal  ...   Egypt     True\n",
              "40837  2019-07-19        Tajikistan  ...   India     True\n",
              "40838  2019-07-20  Papua New Guinea  ...   Samoa     True\n",
              "\n",
              "[5 rows x 9 columns]"
            ]
          },
          "metadata": {
            "tags": []
          },
          "execution_count": 171
        }
      ]
    },
    {
      "cell_type": "code",
      "metadata": {
        "id": "KI81NDuJVKow",
        "colab_type": "code",
        "outputId": "bc568448-0b1a-4765-ab63-efe40904343c",
        "colab": {
          "base_uri": "https://localhost:8080/",
          "height": 52
        }
      },
      "source": [
        "# Lets check the shapes of our datasets and display the results\n",
        "\n",
        "print('Shape of Ranking Dataset :', 'The ranking dataset has ', fifa_ranks.shape[0],' rows and ', fifa_ranks.shape[1],' columns')\n",
        "print('Shape of Results Dataset :', 'The results dataset has ', match_results.shape[0], ' rows and ', match_results.shape[1], ' columns')"
      ],
      "execution_count": 172,
      "outputs": [
        {
          "output_type": "stream",
          "text": [
            "Shape of Ranking Dataset : The ranking dataset has  57793  rows and  16  columns\n",
            "Shape of Results Dataset : The results dataset has  40839  rows and  9  columns\n"
          ],
          "name": "stdout"
        }
      ]
    },
    {
      "cell_type": "markdown",
      "metadata": {
        "id": "4bG6CJ6gPlE_",
        "colab_type": "text"
      },
      "source": [
        "#### Checking and dealing with duplicate records in the datasets\n",
        "\n"
      ]
    },
    {
      "cell_type": "code",
      "metadata": {
        "id": "pE6TmtBdQFVv",
        "colab_type": "code",
        "outputId": "9c43e82b-2558-4c56-ce00-123dfd00d165",
        "colab": {
          "base_uri": "https://localhost:8080/",
          "height": 52
        }
      },
      "source": [
        "# The following line of code will show us if there are any duplicate records in our datasets\n",
        "#\n",
        "print('Ranking data duplicates : ', fifa_ranks.duplicated().any())\n",
        "print('Results data duplicates : ', match_results.duplicated().any())"
      ],
      "execution_count": 173,
      "outputs": [
        {
          "output_type": "stream",
          "text": [
            "Ranking data duplicates :  True\n",
            "Results data duplicates :  False\n"
          ],
          "name": "stdout"
        }
      ]
    },
    {
      "cell_type": "markdown",
      "metadata": {
        "id": "ant0OTM5Y4DA",
        "colab_type": "text"
      },
      "source": [
        "\n",
        "\n",
        "*   The FIFA ranking data contains duplicate rows.\n"
      ]
    },
    {
      "cell_type": "code",
      "metadata": {
        "id": "X-2v_Q8bZHWb",
        "colab_type": "code",
        "colab": {}
      },
      "source": [
        "# We will now drop the duplicate rows from our ranking data except for the first occurrence\n",
        "\n",
        "fifa_ranked = fifa_ranks.drop_duplicates(keep = 'first')"
      ],
      "execution_count": 0,
      "outputs": []
    },
    {
      "cell_type": "code",
      "metadata": {
        "id": "Wu9bFpbAabNv",
        "colab_type": "code",
        "outputId": "37dbc77e-1773-494c-db83-4bc4d64094c9",
        "colab": {
          "base_uri": "https://localhost:8080/",
          "height": 34
        }
      },
      "source": [
        "# Now we check for the number of rows that have been dropped\n",
        "#\n",
        "print('Fifa Ranking Data : ', fifa_ranks.shape[0] - fifa_ranked.shape[0] , 'rows have been dropped')"
      ],
      "execution_count": 175,
      "outputs": [
        {
          "output_type": "stream",
          "text": [
            "Fifa Ranking Data :  37 rows have been dropped\n"
          ],
          "name": "stdout"
        }
      ]
    },
    {
      "cell_type": "markdown",
      "metadata": {
        "id": "OSqDBsoYb_AC",
        "colab_type": "text"
      },
      "source": [
        "#### Checking for Null Values"
      ]
    },
    {
      "cell_type": "code",
      "metadata": {
        "id": "09zkb8rtb-mR",
        "colab_type": "code",
        "outputId": "31f0e9ba-492a-4643-f82b-6e852844806d",
        "colab": {
          "base_uri": "https://localhost:8080/",
          "height": 316
        }
      },
      "source": [
        "# Lets check for null values in the ranking dataset\n",
        "\n",
        "fifa_ranked.isnull().sum()"
      ],
      "execution_count": 176,
      "outputs": [
        {
          "output_type": "execute_result",
          "data": {
            "text/plain": [
              "rank                       0\n",
              "country_full               0\n",
              "country_abrv               0\n",
              "total_points               0\n",
              "previous_points            0\n",
              "rank_change                0\n",
              "cur_year_avg               0\n",
              "cur_year_avg_weighted      0\n",
              "last_year_avg              0\n",
              "last_year_avg_weighted     0\n",
              "two_year_ago_avg           0\n",
              "two_year_ago_weighted      0\n",
              "three_year_ago_avg         0\n",
              "three_year_ago_weighted    0\n",
              "confederation              0\n",
              "rank_date                  0\n",
              "dtype: int64"
            ]
          },
          "metadata": {
            "tags": []
          },
          "execution_count": 176
        }
      ]
    },
    {
      "cell_type": "markdown",
      "metadata": {
        "id": "pruJ3lP8cScE",
        "colab_type": "text"
      },
      "source": [
        "- The ranking dataset has no missing values"
      ]
    },
    {
      "cell_type": "code",
      "metadata": {
        "id": "bY041GVccZnM",
        "colab_type": "code",
        "outputId": "ac755807-0c2e-4227-914b-a150496e75a5",
        "colab": {
          "base_uri": "https://localhost:8080/",
          "height": 193
        }
      },
      "source": [
        "# Checking for null values in the results dataset\n",
        "\n",
        "match_results.isnull().sum()"
      ],
      "execution_count": 177,
      "outputs": [
        {
          "output_type": "execute_result",
          "data": {
            "text/plain": [
              "date          0\n",
              "home_team     0\n",
              "away_team     0\n",
              "home_score    0\n",
              "away_score    0\n",
              "tournament    0\n",
              "city          0\n",
              "country       0\n",
              "neutral       0\n",
              "dtype: int64"
            ]
          },
          "metadata": {
            "tags": []
          },
          "execution_count": 177
        }
      ]
    },
    {
      "cell_type": "markdown",
      "metadata": {
        "id": "-S-dVZyxcm5d",
        "colab_type": "text"
      },
      "source": [
        "- The match results dataset has no missing values either."
      ]
    },
    {
      "cell_type": "markdown",
      "metadata": {
        "id": "gExvfLEhYF9f",
        "colab_type": "text"
      },
      "source": [
        "#### Checking the cardinality of columns\n",
        "\n",
        "> We check for the cardinality of columns in the dataset to determine some of the columns that we might have to drop before we give feed variables into the model for training. Variables with high cardinality will not be part of the training data because it doesn't hold any new information to help train the model. We also drop variables with very low cardinality as they have very low to no variance between records hence does not help to train our models either.\n",
        "\n",
        "\n"
      ]
    },
    {
      "cell_type": "code",
      "metadata": {
        "id": "Qui9QL7rYFTR",
        "colab_type": "code",
        "colab": {
          "base_uri": "https://localhost:8080/",
          "height": 544
        },
        "outputId": "435c458e-5f15-4eed-aaff-1d1f12100a6e"
      },
      "source": [
        "# We will use a for loop to iterate through the columns \n",
        "# while checking for the number of unique values in each column.\n",
        "#\n",
        "# Number of unique values in the fifa ranking dataset\n",
        "\n",
        "print('Cardinality of ranking dataset columns:\\n')\n",
        "\n",
        "for i in fifa_ranked.columns:\n",
        "  print(f'{i:<23} : {fifa_ranked[i].nunique()}')\n",
        "  \n",
        "# Number of unique values of the columns in the match results dataset\n",
        "#\n",
        "\n",
        "print('\\nCardinatity of the match results dataset columns:\\n')\n",
        "for j in match_results.columns:\n",
        "  print(f'{j :<10} : {match_results[j].nunique()}')\n",
        "   "
      ],
      "execution_count": 178,
      "outputs": [
        {
          "output_type": "stream",
          "text": [
            "Cardinality of ranking dataset columns:\n",
            "\n",
            "rank                    : 209\n",
            "country_full            : 216\n",
            "country_abrv            : 216\n",
            "total_points            : 11114\n",
            "previous_points         : 1557\n",
            "rank_change             : 121\n",
            "cur_year_avg            : 7419\n",
            "cur_year_avg_weighted   : 7419\n",
            "last_year_avg           : 7473\n",
            "last_year_avg_weighted  : 7001\n",
            "two_year_ago_avg        : 7575\n",
            "two_year_ago_weighted   : 6513\n",
            "three_year_ago_avg      : 7628\n",
            "three_year_ago_weighted : 5849\n",
            "confederation           : 6\n",
            "rank_date               : 286\n",
            "\n",
            "Cardinatity of the match results dataset columns:\n",
            "\n",
            "date       : 15115\n",
            "home_team  : 309\n",
            "away_team  : 306\n",
            "home_score : 26\n",
            "away_score : 22\n",
            "tournament : 109\n",
            "city       : 1960\n",
            "country    : 266\n",
            "neutral    : 2\n"
          ],
          "name": "stdout"
        }
      ]
    },
    {
      "cell_type": "markdown",
      "metadata": {
        "id": "0JJFar1PP7x8",
        "colab_type": "text"
      },
      "source": [
        "- From the ranking dataset, the confederation column has low cardinality and from the match results dataset, the neutral column has a low cardinality as well. We will then proceed to check the column datatypes bfore we decide whether or not we will drop these columns."
      ]
    },
    {
      "cell_type": "markdown",
      "metadata": {
        "id": "VPyy_puFRMZ3",
        "colab_type": "text"
      },
      "source": [
        "#### Obtaining more information on our datasets"
      ]
    },
    {
      "cell_type": "code",
      "metadata": {
        "id": "14FeT6XoP5JB",
        "colab_type": "code",
        "colab": {
          "base_uri": "https://localhost:8080/",
          "height": 579
        },
        "outputId": "9466a473-1e90-4944-80d5-a059e72197a9"
      },
      "source": [
        "# First we check for the datatypes of the ranking data columns\n",
        "#\n",
        "\n",
        "print('Datatypes of FIFA ranking data columns:\\n\\n', fifa_ranked.dtypes)\n",
        "\n",
        "# Checking the datatypes of the match results data columns\n",
        "#\n",
        "print('\\nDatatypes of results data columns: \\n\\n', match_results.dtypes)\n"
      ],
      "execution_count": 179,
      "outputs": [
        {
          "output_type": "stream",
          "text": [
            "Datatypes of FIFA ranking data columns:\n",
            "\n",
            " rank                         int64\n",
            "country_full                object\n",
            "country_abrv                object\n",
            "total_points               float64\n",
            "previous_points              int64\n",
            "rank_change                  int64\n",
            "cur_year_avg               float64\n",
            "cur_year_avg_weighted      float64\n",
            "last_year_avg              float64\n",
            "last_year_avg_weighted     float64\n",
            "two_year_ago_avg           float64\n",
            "two_year_ago_weighted      float64\n",
            "three_year_ago_avg         float64\n",
            "three_year_ago_weighted    float64\n",
            "confederation               object\n",
            "rank_date                   object\n",
            "dtype: object\n",
            "\n",
            "Datatypes of results data columns: \n",
            "\n",
            " date          object\n",
            "home_team     object\n",
            "away_team     object\n",
            "home_score     int64\n",
            "away_score     int64\n",
            "tournament    object\n",
            "city          object\n",
            "country       object\n",
            "neutral         bool\n",
            "dtype: object\n"
          ],
          "name": "stdout"
        }
      ]
    },
    {
      "cell_type": "markdown",
      "metadata": {
        "id": "WMl_ZZ1YTJW4",
        "colab_type": "text"
      },
      "source": [
        "- In both dataframes, the date columns have to be converted from the object format to datetime datatype before working on these columns.\n",
        "\n",
        "- The neutral column has a boolean datatype and the confederation column is an object column hence we can still work with these columns despite them having low cardinality."
      ]
    },
    {
      "cell_type": "code",
      "metadata": {
        "id": "FzxNlWj0P3c-",
        "colab_type": "code",
        "colab": {
          "base_uri": "https://localhost:8080/",
          "height": 386
        },
        "outputId": "4686c018-e8d6-4b22-f6f0-2b67e5e130d1"
      },
      "source": [
        "fifa_ranks.info()"
      ],
      "execution_count": 180,
      "outputs": [
        {
          "output_type": "stream",
          "text": [
            "<class 'pandas.core.frame.DataFrame'>\n",
            "RangeIndex: 57793 entries, 0 to 57792\n",
            "Data columns (total 16 columns):\n",
            "rank                       57793 non-null int64\n",
            "country_full               57793 non-null object\n",
            "country_abrv               57793 non-null object\n",
            "total_points               57793 non-null float64\n",
            "previous_points            57793 non-null int64\n",
            "rank_change                57793 non-null int64\n",
            "cur_year_avg               57793 non-null float64\n",
            "cur_year_avg_weighted      57793 non-null float64\n",
            "last_year_avg              57793 non-null float64\n",
            "last_year_avg_weighted     57793 non-null float64\n",
            "two_year_ago_avg           57793 non-null float64\n",
            "two_year_ago_weighted      57793 non-null float64\n",
            "three_year_ago_avg         57793 non-null float64\n",
            "three_year_ago_weighted    57793 non-null float64\n",
            "confederation              57793 non-null object\n",
            "rank_date                  57793 non-null object\n",
            "dtypes: float64(9), int64(3), object(4)\n",
            "memory usage: 7.1+ MB\n"
          ],
          "name": "stdout"
        }
      ]
    },
    {
      "cell_type": "code",
      "metadata": {
        "id": "oNLiGdSBVFC0",
        "colab_type": "code",
        "colab": {
          "base_uri": "https://localhost:8080/",
          "height": 263
        },
        "outputId": "896124c8-dd08-44dc-bf7f-217cc05963bd"
      },
      "source": [
        "match_results.info()"
      ],
      "execution_count": 181,
      "outputs": [
        {
          "output_type": "stream",
          "text": [
            "<class 'pandas.core.frame.DataFrame'>\n",
            "RangeIndex: 40839 entries, 0 to 40838\n",
            "Data columns (total 9 columns):\n",
            "date          40839 non-null object\n",
            "home_team     40839 non-null object\n",
            "away_team     40839 non-null object\n",
            "home_score    40839 non-null int64\n",
            "away_score    40839 non-null int64\n",
            "tournament    40839 non-null object\n",
            "city          40839 non-null object\n",
            "country       40839 non-null object\n",
            "neutral       40839 non-null bool\n",
            "dtypes: bool(1), int64(2), object(6)\n",
            "memory usage: 2.5+ MB\n"
          ],
          "name": "stdout"
        }
      ]
    },
    {
      "cell_type": "markdown",
      "metadata": {
        "id": "QeBVGMyyVoGw",
        "colab_type": "text"
      },
      "source": [
        "#### Converting the date columns to datetime datatype"
      ]
    },
    {
      "cell_type": "code",
      "metadata": {
        "id": "ClO9ykwLV2SA",
        "colab_type": "code",
        "colab": {
          "base_uri": "https://localhost:8080/",
          "height": 142
        },
        "outputId": "f8eb49db-dffb-4444-e428-85f84c64cbcd"
      },
      "source": [
        "# Creating a datetime object on the rank_date column in the ranking dataset and the date column in the results dataset\n",
        "#\n",
        "\n",
        "fifa_ranked.rank_date = pd.to_datetime(fifa_ranked.rank_date)\n",
        "match_results.date = pd.to_datetime(match_results.date)"
      ],
      "execution_count": 182,
      "outputs": [
        {
          "output_type": "stream",
          "text": [
            "/usr/local/lib/python3.6/dist-packages/pandas/core/generic.py:5096: SettingWithCopyWarning: \n",
            "A value is trying to be set on a copy of a slice from a DataFrame.\n",
            "Try using .loc[row_indexer,col_indexer] = value instead\n",
            "\n",
            "See the caveats in the documentation: http://pandas.pydata.org/pandas-docs/stable/indexing.html#indexing-view-versus-copy\n",
            "  self[name] = value\n"
          ],
          "name": "stderr"
        }
      ]
    },
    {
      "cell_type": "code",
      "metadata": {
        "id": "vM0eVn8tXqyA",
        "colab_type": "code",
        "colab": {
          "base_uri": "https://localhost:8080/",
          "height": 579
        },
        "outputId": "76845f36-7b75-4e5b-8336-4627f441a56b"
      },
      "source": [
        "# Now checking the dtypes to confirm that the datetime objects have been created \\\n",
        "#\n",
        "\n",
        "print('Datatypes of FIFA ranking data columns:\\n\\n', fifa_ranked.dtypes)\n",
        "\n",
        "# Checking the datatypes of the match results data columns\n",
        "#\n",
        "print('\\nDatatypes of results data columns: \\n\\n', match_results.dtypes)\n"
      ],
      "execution_count": 183,
      "outputs": [
        {
          "output_type": "stream",
          "text": [
            "Datatypes of FIFA ranking data columns:\n",
            "\n",
            " rank                                int64\n",
            "country_full                       object\n",
            "country_abrv                       object\n",
            "total_points                      float64\n",
            "previous_points                     int64\n",
            "rank_change                         int64\n",
            "cur_year_avg                      float64\n",
            "cur_year_avg_weighted             float64\n",
            "last_year_avg                     float64\n",
            "last_year_avg_weighted            float64\n",
            "two_year_ago_avg                  float64\n",
            "two_year_ago_weighted             float64\n",
            "three_year_ago_avg                float64\n",
            "three_year_ago_weighted           float64\n",
            "confederation                      object\n",
            "rank_date                  datetime64[ns]\n",
            "dtype: object\n",
            "\n",
            "Datatypes of results data columns: \n",
            "\n",
            " date          datetime64[ns]\n",
            "home_team             object\n",
            "away_team             object\n",
            "home_score             int64\n",
            "away_score             int64\n",
            "tournament            object\n",
            "city                  object\n",
            "country               object\n",
            "neutral                 bool\n",
            "dtype: object\n"
          ],
          "name": "stdout"
        }
      ]
    },
    {
      "cell_type": "markdown",
      "metadata": {
        "id": "mpj-4KGXavHb",
        "colab_type": "text"
      },
      "source": [
        "- Awesome! We have successfully changed the datatypes of the time columns to datetime."
      ]
    },
    {
      "cell_type": "code",
      "metadata": {
        "id": "Zf1sFO2_a_pC",
        "colab_type": "code",
        "colab": {
          "base_uri": "https://localhost:8080/",
          "height": 248
        },
        "outputId": "9e1db733-10ac-4111-d5c0-45b7882fa2e5"
      },
      "source": [
        "# Now to create new columns and split the date colums into month and year.\n",
        "#\n",
        "# For the year columns\n",
        "\n",
        "fifa_ranked['year'] = fifa_ranked.rank_date.dt.year\n",
        "match_results['year'] = match_results.date.dt.year\n",
        "\n",
        "# Now for the month columns\n",
        "\n",
        "fifa_ranked['month'] = fifa_ranked.rank_date.dt.month\n",
        "match_results['month'] = match_results.date.dt.month"
      ],
      "execution_count": 184,
      "outputs": [
        {
          "output_type": "stream",
          "text": [
            "/usr/local/lib/python3.6/dist-packages/ipykernel_launcher.py:2: SettingWithCopyWarning: \n",
            "A value is trying to be set on a copy of a slice from a DataFrame.\n",
            "Try using .loc[row_indexer,col_indexer] = value instead\n",
            "\n",
            "See the caveats in the documentation: http://pandas.pydata.org/pandas-docs/stable/indexing.html#indexing-view-versus-copy\n",
            "  \n",
            "/usr/local/lib/python3.6/dist-packages/ipykernel_launcher.py:7: SettingWithCopyWarning: \n",
            "A value is trying to be set on a copy of a slice from a DataFrame.\n",
            "Try using .loc[row_indexer,col_indexer] = value instead\n",
            "\n",
            "See the caveats in the documentation: http://pandas.pydata.org/pandas-docs/stable/indexing.html#indexing-view-versus-copy\n",
            "  import sys\n"
          ],
          "name": "stderr"
        }
      ]
    },
    {
      "cell_type": "code",
      "metadata": {
        "id": "CZrbhccdheia",
        "colab_type": "code",
        "colab": {
          "base_uri": "https://localhost:8080/",
          "height": 304
        },
        "outputId": "6ed9d233-3c60-4121-f858-7e296d123438"
      },
      "source": [
        "# Viewing the ranking dataframe\n",
        "\n",
        "fifa_ranked.head()"
      ],
      "execution_count": 185,
      "outputs": [
        {
          "output_type": "execute_result",
          "data": {
            "text/html": [
              "<div>\n",
              "<style scoped>\n",
              "    .dataframe tbody tr th:only-of-type {\n",
              "        vertical-align: middle;\n",
              "    }\n",
              "\n",
              "    .dataframe tbody tr th {\n",
              "        vertical-align: top;\n",
              "    }\n",
              "\n",
              "    .dataframe thead th {\n",
              "        text-align: right;\n",
              "    }\n",
              "</style>\n",
              "<table border=\"1\" class=\"dataframe\">\n",
              "  <thead>\n",
              "    <tr style=\"text-align: right;\">\n",
              "      <th></th>\n",
              "      <th>rank</th>\n",
              "      <th>country_full</th>\n",
              "      <th>country_abrv</th>\n",
              "      <th>total_points</th>\n",
              "      <th>previous_points</th>\n",
              "      <th>rank_change</th>\n",
              "      <th>cur_year_avg</th>\n",
              "      <th>cur_year_avg_weighted</th>\n",
              "      <th>last_year_avg</th>\n",
              "      <th>last_year_avg_weighted</th>\n",
              "      <th>two_year_ago_avg</th>\n",
              "      <th>two_year_ago_weighted</th>\n",
              "      <th>three_year_ago_avg</th>\n",
              "      <th>three_year_ago_weighted</th>\n",
              "      <th>confederation</th>\n",
              "      <th>rank_date</th>\n",
              "      <th>year</th>\n",
              "      <th>month</th>\n",
              "    </tr>\n",
              "  </thead>\n",
              "  <tbody>\n",
              "    <tr>\n",
              "      <th>0</th>\n",
              "      <td>1</td>\n",
              "      <td>Germany</td>\n",
              "      <td>GER</td>\n",
              "      <td>0.0</td>\n",
              "      <td>57</td>\n",
              "      <td>0</td>\n",
              "      <td>0.0</td>\n",
              "      <td>0.0</td>\n",
              "      <td>0.0</td>\n",
              "      <td>0.0</td>\n",
              "      <td>0.0</td>\n",
              "      <td>0.0</td>\n",
              "      <td>0.0</td>\n",
              "      <td>0.0</td>\n",
              "      <td>UEFA</td>\n",
              "      <td>1993-08-08</td>\n",
              "      <td>1993</td>\n",
              "      <td>8</td>\n",
              "    </tr>\n",
              "    <tr>\n",
              "      <th>1</th>\n",
              "      <td>2</td>\n",
              "      <td>Italy</td>\n",
              "      <td>ITA</td>\n",
              "      <td>0.0</td>\n",
              "      <td>57</td>\n",
              "      <td>0</td>\n",
              "      <td>0.0</td>\n",
              "      <td>0.0</td>\n",
              "      <td>0.0</td>\n",
              "      <td>0.0</td>\n",
              "      <td>0.0</td>\n",
              "      <td>0.0</td>\n",
              "      <td>0.0</td>\n",
              "      <td>0.0</td>\n",
              "      <td>UEFA</td>\n",
              "      <td>1993-08-08</td>\n",
              "      <td>1993</td>\n",
              "      <td>8</td>\n",
              "    </tr>\n",
              "    <tr>\n",
              "      <th>2</th>\n",
              "      <td>3</td>\n",
              "      <td>Switzerland</td>\n",
              "      <td>SUI</td>\n",
              "      <td>0.0</td>\n",
              "      <td>50</td>\n",
              "      <td>9</td>\n",
              "      <td>0.0</td>\n",
              "      <td>0.0</td>\n",
              "      <td>0.0</td>\n",
              "      <td>0.0</td>\n",
              "      <td>0.0</td>\n",
              "      <td>0.0</td>\n",
              "      <td>0.0</td>\n",
              "      <td>0.0</td>\n",
              "      <td>UEFA</td>\n",
              "      <td>1993-08-08</td>\n",
              "      <td>1993</td>\n",
              "      <td>8</td>\n",
              "    </tr>\n",
              "    <tr>\n",
              "      <th>3</th>\n",
              "      <td>4</td>\n",
              "      <td>Sweden</td>\n",
              "      <td>SWE</td>\n",
              "      <td>0.0</td>\n",
              "      <td>55</td>\n",
              "      <td>0</td>\n",
              "      <td>0.0</td>\n",
              "      <td>0.0</td>\n",
              "      <td>0.0</td>\n",
              "      <td>0.0</td>\n",
              "      <td>0.0</td>\n",
              "      <td>0.0</td>\n",
              "      <td>0.0</td>\n",
              "      <td>0.0</td>\n",
              "      <td>UEFA</td>\n",
              "      <td>1993-08-08</td>\n",
              "      <td>1993</td>\n",
              "      <td>8</td>\n",
              "    </tr>\n",
              "    <tr>\n",
              "      <th>4</th>\n",
              "      <td>5</td>\n",
              "      <td>Argentina</td>\n",
              "      <td>ARG</td>\n",
              "      <td>0.0</td>\n",
              "      <td>51</td>\n",
              "      <td>5</td>\n",
              "      <td>0.0</td>\n",
              "      <td>0.0</td>\n",
              "      <td>0.0</td>\n",
              "      <td>0.0</td>\n",
              "      <td>0.0</td>\n",
              "      <td>0.0</td>\n",
              "      <td>0.0</td>\n",
              "      <td>0.0</td>\n",
              "      <td>CONMEBOL</td>\n",
              "      <td>1993-08-08</td>\n",
              "      <td>1993</td>\n",
              "      <td>8</td>\n",
              "    </tr>\n",
              "  </tbody>\n",
              "</table>\n",
              "</div>"
            ],
            "text/plain": [
              "   rank country_full country_abrv  ...  rank_date  year  month\n",
              "0     1      Germany          GER  ... 1993-08-08  1993      8\n",
              "1     2        Italy          ITA  ... 1993-08-08  1993      8\n",
              "2     3  Switzerland          SUI  ... 1993-08-08  1993      8\n",
              "3     4       Sweden          SWE  ... 1993-08-08  1993      8\n",
              "4     5    Argentina          ARG  ... 1993-08-08  1993      8\n",
              "\n",
              "[5 rows x 18 columns]"
            ]
          },
          "metadata": {
            "tags": []
          },
          "execution_count": 185
        }
      ]
    },
    {
      "cell_type": "code",
      "metadata": {
        "id": "vNj3vfGpiPVj",
        "colab_type": "code",
        "colab": {
          "base_uri": "https://localhost:8080/",
          "height": 199
        },
        "outputId": "f89115ca-89da-4312-9079-5ef642548e88"
      },
      "source": [
        "match_results.head()"
      ],
      "execution_count": 186,
      "outputs": [
        {
          "output_type": "execute_result",
          "data": {
            "text/html": [
              "<div>\n",
              "<style scoped>\n",
              "    .dataframe tbody tr th:only-of-type {\n",
              "        vertical-align: middle;\n",
              "    }\n",
              "\n",
              "    .dataframe tbody tr th {\n",
              "        vertical-align: top;\n",
              "    }\n",
              "\n",
              "    .dataframe thead th {\n",
              "        text-align: right;\n",
              "    }\n",
              "</style>\n",
              "<table border=\"1\" class=\"dataframe\">\n",
              "  <thead>\n",
              "    <tr style=\"text-align: right;\">\n",
              "      <th></th>\n",
              "      <th>date</th>\n",
              "      <th>home_team</th>\n",
              "      <th>away_team</th>\n",
              "      <th>home_score</th>\n",
              "      <th>away_score</th>\n",
              "      <th>tournament</th>\n",
              "      <th>city</th>\n",
              "      <th>country</th>\n",
              "      <th>neutral</th>\n",
              "      <th>year</th>\n",
              "      <th>month</th>\n",
              "    </tr>\n",
              "  </thead>\n",
              "  <tbody>\n",
              "    <tr>\n",
              "      <th>0</th>\n",
              "      <td>1872-11-30</td>\n",
              "      <td>Scotland</td>\n",
              "      <td>England</td>\n",
              "      <td>0</td>\n",
              "      <td>0</td>\n",
              "      <td>Friendly</td>\n",
              "      <td>Glasgow</td>\n",
              "      <td>Scotland</td>\n",
              "      <td>False</td>\n",
              "      <td>1872</td>\n",
              "      <td>11</td>\n",
              "    </tr>\n",
              "    <tr>\n",
              "      <th>1</th>\n",
              "      <td>1873-03-08</td>\n",
              "      <td>England</td>\n",
              "      <td>Scotland</td>\n",
              "      <td>4</td>\n",
              "      <td>2</td>\n",
              "      <td>Friendly</td>\n",
              "      <td>London</td>\n",
              "      <td>England</td>\n",
              "      <td>False</td>\n",
              "      <td>1873</td>\n",
              "      <td>3</td>\n",
              "    </tr>\n",
              "    <tr>\n",
              "      <th>2</th>\n",
              "      <td>1874-03-07</td>\n",
              "      <td>Scotland</td>\n",
              "      <td>England</td>\n",
              "      <td>2</td>\n",
              "      <td>1</td>\n",
              "      <td>Friendly</td>\n",
              "      <td>Glasgow</td>\n",
              "      <td>Scotland</td>\n",
              "      <td>False</td>\n",
              "      <td>1874</td>\n",
              "      <td>3</td>\n",
              "    </tr>\n",
              "    <tr>\n",
              "      <th>3</th>\n",
              "      <td>1875-03-06</td>\n",
              "      <td>England</td>\n",
              "      <td>Scotland</td>\n",
              "      <td>2</td>\n",
              "      <td>2</td>\n",
              "      <td>Friendly</td>\n",
              "      <td>London</td>\n",
              "      <td>England</td>\n",
              "      <td>False</td>\n",
              "      <td>1875</td>\n",
              "      <td>3</td>\n",
              "    </tr>\n",
              "    <tr>\n",
              "      <th>4</th>\n",
              "      <td>1876-03-04</td>\n",
              "      <td>Scotland</td>\n",
              "      <td>England</td>\n",
              "      <td>3</td>\n",
              "      <td>0</td>\n",
              "      <td>Friendly</td>\n",
              "      <td>Glasgow</td>\n",
              "      <td>Scotland</td>\n",
              "      <td>False</td>\n",
              "      <td>1876</td>\n",
              "      <td>3</td>\n",
              "    </tr>\n",
              "  </tbody>\n",
              "</table>\n",
              "</div>"
            ],
            "text/plain": [
              "        date home_team away_team  home_score  ...   country neutral  year month\n",
              "0 1872-11-30  Scotland   England           0  ...  Scotland   False  1872    11\n",
              "1 1873-03-08   England  Scotland           4  ...   England   False  1873     3\n",
              "2 1874-03-07  Scotland   England           2  ...  Scotland   False  1874     3\n",
              "3 1875-03-06   England  Scotland           2  ...   England   False  1875     3\n",
              "4 1876-03-04  Scotland   England           3  ...  Scotland   False  1876     3\n",
              "\n",
              "[5 rows x 11 columns]"
            ]
          },
          "metadata": {
            "tags": []
          },
          "execution_count": 186
        }
      ]
    },
    {
      "cell_type": "markdown",
      "metadata": {
        "id": "vl13mXkX5a-P",
        "colab_type": "text"
      },
      "source": [
        "#### Dealing with columns\n",
        "- Before we combine the two datasets, we need to make sure that the common columns have the same column names in both datasets."
      ]
    },
    {
      "cell_type": "code",
      "metadata": {
        "id": "1im6rBCR7hJF",
        "colab_type": "code",
        "colab": {
          "base_uri": "https://localhost:8080/",
          "height": 70
        },
        "outputId": "7947e2eb-3614-4bda-a39f-99cdd9cc222f"
      },
      "source": [
        "match_results.columns"
      ],
      "execution_count": 187,
      "outputs": [
        {
          "output_type": "execute_result",
          "data": {
            "text/plain": [
              "Index(['date', 'home_team', 'away_team', 'home_score', 'away_score',\n",
              "       'tournament', 'city', 'country', 'neutral', 'year', 'month'],\n",
              "      dtype='object')"
            ]
          },
          "metadata": {
            "tags": []
          },
          "execution_count": 187
        }
      ]
    },
    {
      "cell_type": "code",
      "metadata": {
        "id": "Te70hsb57FHV",
        "colab_type": "code",
        "colab": {
          "base_uri": "https://localhost:8080/",
          "height": 140
        },
        "outputId": "12274244-9d55-48b0-9d8f-2a4812d365f5"
      },
      "source": [
        "fifa_ranked.columns"
      ],
      "execution_count": 188,
      "outputs": [
        {
          "output_type": "execute_result",
          "data": {
            "text/plain": [
              "Index(['rank', 'country_full', 'country_abrv', 'total_points',\n",
              "       'previous_points', 'rank_change', 'cur_year_avg',\n",
              "       'cur_year_avg_weighted', 'last_year_avg', 'last_year_avg_weighted',\n",
              "       'two_year_ago_avg', 'two_year_ago_weighted', 'three_year_ago_avg',\n",
              "       'three_year_ago_weighted', 'confederation', 'rank_date', 'year',\n",
              "       'month'],\n",
              "      dtype='object')"
            ]
          },
          "metadata": {
            "tags": []
          },
          "execution_count": 188
        }
      ]
    },
    {
      "cell_type": "code",
      "metadata": {
        "id": "Lj2P2_ey7MTv",
        "colab_type": "code",
        "colab": {
          "base_uri": "https://localhost:8080/",
          "height": 304
        },
        "outputId": "b2f8c3cf-47b6-45bc-a7fb-9374b161acf9"
      },
      "source": [
        "fifa_ranked.head()"
      ],
      "execution_count": 189,
      "outputs": [
        {
          "output_type": "execute_result",
          "data": {
            "text/html": [
              "<div>\n",
              "<style scoped>\n",
              "    .dataframe tbody tr th:only-of-type {\n",
              "        vertical-align: middle;\n",
              "    }\n",
              "\n",
              "    .dataframe tbody tr th {\n",
              "        vertical-align: top;\n",
              "    }\n",
              "\n",
              "    .dataframe thead th {\n",
              "        text-align: right;\n",
              "    }\n",
              "</style>\n",
              "<table border=\"1\" class=\"dataframe\">\n",
              "  <thead>\n",
              "    <tr style=\"text-align: right;\">\n",
              "      <th></th>\n",
              "      <th>rank</th>\n",
              "      <th>country_full</th>\n",
              "      <th>country_abrv</th>\n",
              "      <th>total_points</th>\n",
              "      <th>previous_points</th>\n",
              "      <th>rank_change</th>\n",
              "      <th>cur_year_avg</th>\n",
              "      <th>cur_year_avg_weighted</th>\n",
              "      <th>last_year_avg</th>\n",
              "      <th>last_year_avg_weighted</th>\n",
              "      <th>two_year_ago_avg</th>\n",
              "      <th>two_year_ago_weighted</th>\n",
              "      <th>three_year_ago_avg</th>\n",
              "      <th>three_year_ago_weighted</th>\n",
              "      <th>confederation</th>\n",
              "      <th>rank_date</th>\n",
              "      <th>year</th>\n",
              "      <th>month</th>\n",
              "    </tr>\n",
              "  </thead>\n",
              "  <tbody>\n",
              "    <tr>\n",
              "      <th>0</th>\n",
              "      <td>1</td>\n",
              "      <td>Germany</td>\n",
              "      <td>GER</td>\n",
              "      <td>0.0</td>\n",
              "      <td>57</td>\n",
              "      <td>0</td>\n",
              "      <td>0.0</td>\n",
              "      <td>0.0</td>\n",
              "      <td>0.0</td>\n",
              "      <td>0.0</td>\n",
              "      <td>0.0</td>\n",
              "      <td>0.0</td>\n",
              "      <td>0.0</td>\n",
              "      <td>0.0</td>\n",
              "      <td>UEFA</td>\n",
              "      <td>1993-08-08</td>\n",
              "      <td>1993</td>\n",
              "      <td>8</td>\n",
              "    </tr>\n",
              "    <tr>\n",
              "      <th>1</th>\n",
              "      <td>2</td>\n",
              "      <td>Italy</td>\n",
              "      <td>ITA</td>\n",
              "      <td>0.0</td>\n",
              "      <td>57</td>\n",
              "      <td>0</td>\n",
              "      <td>0.0</td>\n",
              "      <td>0.0</td>\n",
              "      <td>0.0</td>\n",
              "      <td>0.0</td>\n",
              "      <td>0.0</td>\n",
              "      <td>0.0</td>\n",
              "      <td>0.0</td>\n",
              "      <td>0.0</td>\n",
              "      <td>UEFA</td>\n",
              "      <td>1993-08-08</td>\n",
              "      <td>1993</td>\n",
              "      <td>8</td>\n",
              "    </tr>\n",
              "    <tr>\n",
              "      <th>2</th>\n",
              "      <td>3</td>\n",
              "      <td>Switzerland</td>\n",
              "      <td>SUI</td>\n",
              "      <td>0.0</td>\n",
              "      <td>50</td>\n",
              "      <td>9</td>\n",
              "      <td>0.0</td>\n",
              "      <td>0.0</td>\n",
              "      <td>0.0</td>\n",
              "      <td>0.0</td>\n",
              "      <td>0.0</td>\n",
              "      <td>0.0</td>\n",
              "      <td>0.0</td>\n",
              "      <td>0.0</td>\n",
              "      <td>UEFA</td>\n",
              "      <td>1993-08-08</td>\n",
              "      <td>1993</td>\n",
              "      <td>8</td>\n",
              "    </tr>\n",
              "    <tr>\n",
              "      <th>3</th>\n",
              "      <td>4</td>\n",
              "      <td>Sweden</td>\n",
              "      <td>SWE</td>\n",
              "      <td>0.0</td>\n",
              "      <td>55</td>\n",
              "      <td>0</td>\n",
              "      <td>0.0</td>\n",
              "      <td>0.0</td>\n",
              "      <td>0.0</td>\n",
              "      <td>0.0</td>\n",
              "      <td>0.0</td>\n",
              "      <td>0.0</td>\n",
              "      <td>0.0</td>\n",
              "      <td>0.0</td>\n",
              "      <td>UEFA</td>\n",
              "      <td>1993-08-08</td>\n",
              "      <td>1993</td>\n",
              "      <td>8</td>\n",
              "    </tr>\n",
              "    <tr>\n",
              "      <th>4</th>\n",
              "      <td>5</td>\n",
              "      <td>Argentina</td>\n",
              "      <td>ARG</td>\n",
              "      <td>0.0</td>\n",
              "      <td>51</td>\n",
              "      <td>5</td>\n",
              "      <td>0.0</td>\n",
              "      <td>0.0</td>\n",
              "      <td>0.0</td>\n",
              "      <td>0.0</td>\n",
              "      <td>0.0</td>\n",
              "      <td>0.0</td>\n",
              "      <td>0.0</td>\n",
              "      <td>0.0</td>\n",
              "      <td>CONMEBOL</td>\n",
              "      <td>1993-08-08</td>\n",
              "      <td>1993</td>\n",
              "      <td>8</td>\n",
              "    </tr>\n",
              "  </tbody>\n",
              "</table>\n",
              "</div>"
            ],
            "text/plain": [
              "   rank country_full country_abrv  ...  rank_date  year  month\n",
              "0     1      Germany          GER  ... 1993-08-08  1993      8\n",
              "1     2        Italy          ITA  ... 1993-08-08  1993      8\n",
              "2     3  Switzerland          SUI  ... 1993-08-08  1993      8\n",
              "3     4       Sweden          SWE  ... 1993-08-08  1993      8\n",
              "4     5    Argentina          ARG  ... 1993-08-08  1993      8\n",
              "\n",
              "[5 rows x 18 columns]"
            ]
          },
          "metadata": {
            "tags": []
          },
          "execution_count": 189
        }
      ]
    },
    {
      "cell_type": "markdown",
      "metadata": {
        "id": "gaRIeQF82FWR",
        "colab_type": "text"
      },
      "source": [
        "#### Data Integration\n",
        "\n",
        "- We will now merge the two datasets to form our analysis dataset.\n",
        "- We will use an inner merge/join as we want to keep only the rows exist on the columns common to both dataframes."
      ]
    },
    {
      "cell_type": "code",
      "metadata": {
        "id": "Lu-DhY654zHT",
        "colab_type": "code",
        "colab": {
          "base_uri": "https://localhost:8080/",
          "height": 34
        },
        "outputId": "25fc7c27-4fc7-4191-c577-75361b8ba449"
      },
      "source": [
        "# We now merge the two datasets for form one that we will use for analysis\n",
        "\n",
        "fifa_home = pd.merge(match_results, fifa_ranked,  left_on = ['home_team', 'year', 'month'], right_on = ['country_full', 'year', 'month'],  how = 'inner' )\n",
        "\n",
        "fifa_home.shape\n",
        "print('Our FIFA home dataset has ', fifa_home.shape[0], 'rows and ', fifa_home.shape[1], 'columns')"
      ],
      "execution_count": 190,
      "outputs": [
        {
          "output_type": "stream",
          "text": [
            "Our FIFA home dataset has  18593 rows and  27 columns\n"
          ],
          "name": "stdout"
        }
      ]
    },
    {
      "cell_type": "code",
      "metadata": {
        "id": "G_j9CWOBkiU0",
        "colab_type": "code",
        "colab": {
          "base_uri": "https://localhost:8080/",
          "height": 34
        },
        "outputId": "f6bad8a3-7106-4211-9dac-ec91c4d8daba"
      },
      "source": [
        "_# Merging the ranking dataset to the result dataset on the away_team, year and month columns\n",
        "\n",
        "fifa_away = pd.merge(match_results, fifa_ranked, how = 'inner', left_on = ['year', 'month', 'away_team'], right_on = ['year', 'month', 'country_full'])\n",
        "\n",
        "print('Our FIFA away dataset has ', fifa_away.shape[0], 'rows and ', fifa_away.shape[1], 'columns')"
      ],
      "execution_count": 191,
      "outputs": [
        {
          "output_type": "stream",
          "text": [
            "Our FIFA away dataset has  18502 rows and  27 columns\n"
          ],
          "name": "stdout"
        }
      ]
    },
    {
      "cell_type": "code",
      "metadata": {
        "id": "hXcJaZr3oZHj",
        "colab_type": "code",
        "colab": {
          "base_uri": "https://localhost:8080/",
          "height": 34
        },
        "outputId": "1536be18-0221-4f87-99b1-2c091246b520"
      },
      "source": [
        "# Number of countries in the home dataset\n",
        "#\n",
        "fifa_home.country_abrv.nunique()"
      ],
      "execution_count": 192,
      "outputs": [
        {
          "output_type": "execute_result",
          "data": {
            "text/plain": [
              "193"
            ]
          },
          "metadata": {
            "tags": []
          },
          "execution_count": 192
        }
      ]
    },
    {
      "cell_type": "code",
      "metadata": {
        "id": "vIgmjv-JoQbi",
        "colab_type": "code",
        "colab": {
          "base_uri": "https://localhost:8080/",
          "height": 34
        },
        "outputId": "c588104b-a6e1-46e3-9587-8ad353e3fc9f"
      },
      "source": [
        "# Lets check the number of countries in the away dataset\n",
        "#\n",
        "fifa_away.country_abrv.nunique()"
      ],
      "execution_count": 193,
      "outputs": [
        {
          "output_type": "execute_result",
          "data": {
            "text/plain": [
              "194"
            ]
          },
          "metadata": {
            "tags": []
          },
          "execution_count": 193
        }
      ]
    },
    {
      "cell_type": "code",
      "metadata": {
        "id": "kssyzplzqTZf",
        "colab_type": "code",
        "colab": {}
      },
      "source": [
        "# Renaming the ranks columns to get the home team and away team ranks\n",
        "#\n",
        "fifa_home.rename({'rank' : 'home_rank'}, axis = 1, inplace = True)\n",
        "fifa_away.rename({'rank' : 'away_rank'}, axis =1, inplace = True)"
      ],
      "execution_count": 0,
      "outputs": []
    },
    {
      "cell_type": "code",
      "metadata": {
        "id": "8IZ4g7h4rfjP",
        "colab_type": "code",
        "colab": {
          "base_uri": "https://localhost:8080/",
          "height": 157
        },
        "outputId": "b3acffe7-4bce-42d6-e2dc-dc60f14c4664"
      },
      "source": [
        "fifa_home.columns"
      ],
      "execution_count": 195,
      "outputs": [
        {
          "output_type": "execute_result",
          "data": {
            "text/plain": [
              "Index(['date', 'home_team', 'away_team', 'home_score', 'away_score',\n",
              "       'tournament', 'city', 'country', 'neutral', 'year', 'month',\n",
              "       'home_rank', 'country_full', 'country_abrv', 'total_points',\n",
              "       'previous_points', 'rank_change', 'cur_year_avg',\n",
              "       'cur_year_avg_weighted', 'last_year_avg', 'last_year_avg_weighted',\n",
              "       'two_year_ago_avg', 'two_year_ago_weighted', 'three_year_ago_avg',\n",
              "       'three_year_ago_weighted', 'confederation', 'rank_date'],\n",
              "      dtype='object')"
            ]
          },
          "metadata": {
            "tags": []
          },
          "execution_count": 195
        }
      ]
    },
    {
      "cell_type": "code",
      "metadata": {
        "id": "oZP-VSYMrfT_",
        "colab_type": "code",
        "colab": {
          "base_uri": "https://localhost:8080/",
          "height": 157
        },
        "outputId": "e39510cf-a160-4fa3-c832-42f435d31e04"
      },
      "source": [
        "fifa_away.columns"
      ],
      "execution_count": 196,
      "outputs": [
        {
          "output_type": "execute_result",
          "data": {
            "text/plain": [
              "Index(['date', 'home_team', 'away_team', 'home_score', 'away_score',\n",
              "       'tournament', 'city', 'country', 'neutral', 'year', 'month',\n",
              "       'away_rank', 'country_full', 'country_abrv', 'total_points',\n",
              "       'previous_points', 'rank_change', 'cur_year_avg',\n",
              "       'cur_year_avg_weighted', 'last_year_avg', 'last_year_avg_weighted',\n",
              "       'two_year_ago_avg', 'two_year_ago_weighted', 'three_year_ago_avg',\n",
              "       'three_year_ago_weighted', 'confederation', 'rank_date'],\n",
              "      dtype='object')"
            ]
          },
          "metadata": {
            "tags": []
          },
          "execution_count": 196
        }
      ]
    },
    {
      "cell_type": "code",
      "metadata": {
        "id": "c2x9kAa7rqdw",
        "colab_type": "code",
        "colab": {
          "base_uri": "https://localhost:8080/",
          "height": 199
        },
        "outputId": "5c05d31e-16eb-4404-edb5-be806efe1118"
      },
      "source": [
        "away_ranks = fifa_away[['away_team','away_rank','year','month']]\n",
        "away_ranks.head()\n",
        "\n",
        "#away_ranks.shape"
      ],
      "execution_count": 197,
      "outputs": [
        {
          "output_type": "execute_result",
          "data": {
            "text/html": [
              "<div>\n",
              "<style scoped>\n",
              "    .dataframe tbody tr th:only-of-type {\n",
              "        vertical-align: middle;\n",
              "    }\n",
              "\n",
              "    .dataframe tbody tr th {\n",
              "        vertical-align: top;\n",
              "    }\n",
              "\n",
              "    .dataframe thead th {\n",
              "        text-align: right;\n",
              "    }\n",
              "</style>\n",
              "<table border=\"1\" class=\"dataframe\">\n",
              "  <thead>\n",
              "    <tr style=\"text-align: right;\">\n",
              "      <th></th>\n",
              "      <th>away_team</th>\n",
              "      <th>away_rank</th>\n",
              "      <th>year</th>\n",
              "      <th>month</th>\n",
              "    </tr>\n",
              "  </thead>\n",
              "  <tbody>\n",
              "    <tr>\n",
              "      <th>0</th>\n",
              "      <td>Paraguay</td>\n",
              "      <td>67</td>\n",
              "      <td>1993</td>\n",
              "      <td>8</td>\n",
              "    </tr>\n",
              "    <tr>\n",
              "      <th>1</th>\n",
              "      <td>Paraguay</td>\n",
              "      <td>67</td>\n",
              "      <td>1993</td>\n",
              "      <td>8</td>\n",
              "    </tr>\n",
              "    <tr>\n",
              "      <th>2</th>\n",
              "      <td>Argentina</td>\n",
              "      <td>5</td>\n",
              "      <td>1993</td>\n",
              "      <td>8</td>\n",
              "    </tr>\n",
              "    <tr>\n",
              "      <th>3</th>\n",
              "      <td>Argentina</td>\n",
              "      <td>5</td>\n",
              "      <td>1993</td>\n",
              "      <td>8</td>\n",
              "    </tr>\n",
              "    <tr>\n",
              "      <th>4</th>\n",
              "      <td>Argentina</td>\n",
              "      <td>5</td>\n",
              "      <td>1993</td>\n",
              "      <td>8</td>\n",
              "    </tr>\n",
              "  </tbody>\n",
              "</table>\n",
              "</div>"
            ],
            "text/plain": [
              "   away_team  away_rank  year  month\n",
              "0   Paraguay         67  1993      8\n",
              "1   Paraguay         67  1993      8\n",
              "2  Argentina          5  1993      8\n",
              "3  Argentina          5  1993      8\n",
              "4  Argentina          5  1993      8"
            ]
          },
          "metadata": {
            "tags": []
          },
          "execution_count": 197
        }
      ]
    },
    {
      "cell_type": "code",
      "metadata": {
        "id": "LzD_L5xVttQu",
        "colab_type": "code",
        "colab": {
          "base_uri": "https://localhost:8080/",
          "height": 389
        },
        "outputId": "b72b918f-aed6-427d-c536-45a9e2a61aa3"
      },
      "source": [
        "fifa_df = pd.merge(fifa_home, away_ranks, how = 'inner', left_on = ['year', 'month', 'away_team'], right_on = ['year', 'month', 'away_team'])\n",
        "\n",
        "fifa_df.head()"
      ],
      "execution_count": 198,
      "outputs": [
        {
          "output_type": "execute_result",
          "data": {
            "text/html": [
              "<div>\n",
              "<style scoped>\n",
              "    .dataframe tbody tr th:only-of-type {\n",
              "        vertical-align: middle;\n",
              "    }\n",
              "\n",
              "    .dataframe tbody tr th {\n",
              "        vertical-align: top;\n",
              "    }\n",
              "\n",
              "    .dataframe thead th {\n",
              "        text-align: right;\n",
              "    }\n",
              "</style>\n",
              "<table border=\"1\" class=\"dataframe\">\n",
              "  <thead>\n",
              "    <tr style=\"text-align: right;\">\n",
              "      <th></th>\n",
              "      <th>date</th>\n",
              "      <th>home_team</th>\n",
              "      <th>away_team</th>\n",
              "      <th>home_score</th>\n",
              "      <th>away_score</th>\n",
              "      <th>tournament</th>\n",
              "      <th>city</th>\n",
              "      <th>country</th>\n",
              "      <th>neutral</th>\n",
              "      <th>year</th>\n",
              "      <th>month</th>\n",
              "      <th>home_rank</th>\n",
              "      <th>country_full</th>\n",
              "      <th>country_abrv</th>\n",
              "      <th>total_points</th>\n",
              "      <th>previous_points</th>\n",
              "      <th>rank_change</th>\n",
              "      <th>cur_year_avg</th>\n",
              "      <th>cur_year_avg_weighted</th>\n",
              "      <th>last_year_avg</th>\n",
              "      <th>last_year_avg_weighted</th>\n",
              "      <th>two_year_ago_avg</th>\n",
              "      <th>two_year_ago_weighted</th>\n",
              "      <th>three_year_ago_avg</th>\n",
              "      <th>three_year_ago_weighted</th>\n",
              "      <th>confederation</th>\n",
              "      <th>rank_date</th>\n",
              "      <th>away_rank</th>\n",
              "    </tr>\n",
              "  </thead>\n",
              "  <tbody>\n",
              "    <tr>\n",
              "      <th>0</th>\n",
              "      <td>1993-08-01</td>\n",
              "      <td>Colombia</td>\n",
              "      <td>Paraguay</td>\n",
              "      <td>0</td>\n",
              "      <td>0</td>\n",
              "      <td>FIFA World Cup qualification</td>\n",
              "      <td>Barranquilla</td>\n",
              "      <td>Colombia</td>\n",
              "      <td>False</td>\n",
              "      <td>1993</td>\n",
              "      <td>8</td>\n",
              "      <td>19</td>\n",
              "      <td>Colombia</td>\n",
              "      <td>COL</td>\n",
              "      <td>0.0</td>\n",
              "      <td>36</td>\n",
              "      <td>16</td>\n",
              "      <td>0.0</td>\n",
              "      <td>0.0</td>\n",
              "      <td>0.0</td>\n",
              "      <td>0.0</td>\n",
              "      <td>0.0</td>\n",
              "      <td>0.0</td>\n",
              "      <td>0.0</td>\n",
              "      <td>0.0</td>\n",
              "      <td>CONMEBOL</td>\n",
              "      <td>1993-08-08</td>\n",
              "      <td>67</td>\n",
              "    </tr>\n",
              "    <tr>\n",
              "      <th>1</th>\n",
              "      <td>1993-08-01</td>\n",
              "      <td>Colombia</td>\n",
              "      <td>Paraguay</td>\n",
              "      <td>0</td>\n",
              "      <td>0</td>\n",
              "      <td>FIFA World Cup qualification</td>\n",
              "      <td>Barranquilla</td>\n",
              "      <td>Colombia</td>\n",
              "      <td>False</td>\n",
              "      <td>1993</td>\n",
              "      <td>8</td>\n",
              "      <td>19</td>\n",
              "      <td>Colombia</td>\n",
              "      <td>COL</td>\n",
              "      <td>0.0</td>\n",
              "      <td>36</td>\n",
              "      <td>16</td>\n",
              "      <td>0.0</td>\n",
              "      <td>0.0</td>\n",
              "      <td>0.0</td>\n",
              "      <td>0.0</td>\n",
              "      <td>0.0</td>\n",
              "      <td>0.0</td>\n",
              "      <td>0.0</td>\n",
              "      <td>0.0</td>\n",
              "      <td>CONMEBOL</td>\n",
              "      <td>1993-08-08</td>\n",
              "      <td>67</td>\n",
              "    </tr>\n",
              "    <tr>\n",
              "      <th>2</th>\n",
              "      <td>1993-08-29</td>\n",
              "      <td>Argentina</td>\n",
              "      <td>Paraguay</td>\n",
              "      <td>0</td>\n",
              "      <td>0</td>\n",
              "      <td>FIFA World Cup qualification</td>\n",
              "      <td>Buenos Aires</td>\n",
              "      <td>Argentina</td>\n",
              "      <td>False</td>\n",
              "      <td>1993</td>\n",
              "      <td>8</td>\n",
              "      <td>5</td>\n",
              "      <td>Argentina</td>\n",
              "      <td>ARG</td>\n",
              "      <td>0.0</td>\n",
              "      <td>51</td>\n",
              "      <td>5</td>\n",
              "      <td>0.0</td>\n",
              "      <td>0.0</td>\n",
              "      <td>0.0</td>\n",
              "      <td>0.0</td>\n",
              "      <td>0.0</td>\n",
              "      <td>0.0</td>\n",
              "      <td>0.0</td>\n",
              "      <td>0.0</td>\n",
              "      <td>CONMEBOL</td>\n",
              "      <td>1993-08-08</td>\n",
              "      <td>67</td>\n",
              "    </tr>\n",
              "    <tr>\n",
              "      <th>3</th>\n",
              "      <td>1993-08-29</td>\n",
              "      <td>Argentina</td>\n",
              "      <td>Paraguay</td>\n",
              "      <td>0</td>\n",
              "      <td>0</td>\n",
              "      <td>FIFA World Cup qualification</td>\n",
              "      <td>Buenos Aires</td>\n",
              "      <td>Argentina</td>\n",
              "      <td>False</td>\n",
              "      <td>1993</td>\n",
              "      <td>8</td>\n",
              "      <td>5</td>\n",
              "      <td>Argentina</td>\n",
              "      <td>ARG</td>\n",
              "      <td>0.0</td>\n",
              "      <td>51</td>\n",
              "      <td>5</td>\n",
              "      <td>0.0</td>\n",
              "      <td>0.0</td>\n",
              "      <td>0.0</td>\n",
              "      <td>0.0</td>\n",
              "      <td>0.0</td>\n",
              "      <td>0.0</td>\n",
              "      <td>0.0</td>\n",
              "      <td>0.0</td>\n",
              "      <td>CONMEBOL</td>\n",
              "      <td>1993-08-08</td>\n",
              "      <td>67</td>\n",
              "    </tr>\n",
              "    <tr>\n",
              "      <th>4</th>\n",
              "      <td>1993-08-15</td>\n",
              "      <td>Colombia</td>\n",
              "      <td>Argentina</td>\n",
              "      <td>2</td>\n",
              "      <td>1</td>\n",
              "      <td>FIFA World Cup qualification</td>\n",
              "      <td>Barranquilla</td>\n",
              "      <td>Colombia</td>\n",
              "      <td>False</td>\n",
              "      <td>1993</td>\n",
              "      <td>8</td>\n",
              "      <td>19</td>\n",
              "      <td>Colombia</td>\n",
              "      <td>COL</td>\n",
              "      <td>0.0</td>\n",
              "      <td>36</td>\n",
              "      <td>16</td>\n",
              "      <td>0.0</td>\n",
              "      <td>0.0</td>\n",
              "      <td>0.0</td>\n",
              "      <td>0.0</td>\n",
              "      <td>0.0</td>\n",
              "      <td>0.0</td>\n",
              "      <td>0.0</td>\n",
              "      <td>0.0</td>\n",
              "      <td>CONMEBOL</td>\n",
              "      <td>1993-08-08</td>\n",
              "      <td>5</td>\n",
              "    </tr>\n",
              "  </tbody>\n",
              "</table>\n",
              "</div>"
            ],
            "text/plain": [
              "        date  home_team  away_team  ...  confederation  rank_date away_rank\n",
              "0 1993-08-01   Colombia   Paraguay  ...       CONMEBOL 1993-08-08        67\n",
              "1 1993-08-01   Colombia   Paraguay  ...       CONMEBOL 1993-08-08        67\n",
              "2 1993-08-29  Argentina   Paraguay  ...       CONMEBOL 1993-08-08        67\n",
              "3 1993-08-29  Argentina   Paraguay  ...       CONMEBOL 1993-08-08        67\n",
              "4 1993-08-15   Colombia  Argentina  ...       CONMEBOL 1993-08-08         5\n",
              "\n",
              "[5 rows x 28 columns]"
            ]
          },
          "metadata": {
            "tags": []
          },
          "execution_count": 198
        }
      ]
    },
    {
      "cell_type": "code",
      "metadata": {
        "id": "tG7o88h8IEHW",
        "colab_type": "code",
        "colab": {
          "base_uri": "https://localhost:8080/",
          "height": 105
        },
        "outputId": "7481a4ea-274a-437b-d953-20558f651a0f"
      },
      "source": [
        "print(fifa_df.shape, '\\n')\n",
        "print('Presence of duplicated records: ', fifa_df.duplicated().any(), '\\n')\n",
        "print('Number of duplicate records: ', fifa_df.duplicated().sum())"
      ],
      "execution_count": 199,
      "outputs": [
        {
          "output_type": "stream",
          "text": [
            "(28439, 28) \n",
            "\n",
            "Presence of duplicated records:  True \n",
            "\n",
            "Number of duplicate records:  11535\n"
          ],
          "name": "stdout"
        }
      ]
    },
    {
      "cell_type": "code",
      "metadata": {
        "id": "gW53mYg_wmb5",
        "colab_type": "code",
        "colab": {
          "base_uri": "https://localhost:8080/",
          "height": 389
        },
        "outputId": "c598a12c-d2a8-4a1c-f6cd-ff6cee2b5886"
      },
      "source": [
        "# viewing the duplicate rows\n",
        "\n",
        "a = fifa_df.duplicated()\n",
        "fifa_df[a].head()"
      ],
      "execution_count": 200,
      "outputs": [
        {
          "output_type": "execute_result",
          "data": {
            "text/html": [
              "<div>\n",
              "<style scoped>\n",
              "    .dataframe tbody tr th:only-of-type {\n",
              "        vertical-align: middle;\n",
              "    }\n",
              "\n",
              "    .dataframe tbody tr th {\n",
              "        vertical-align: top;\n",
              "    }\n",
              "\n",
              "    .dataframe thead th {\n",
              "        text-align: right;\n",
              "    }\n",
              "</style>\n",
              "<table border=\"1\" class=\"dataframe\">\n",
              "  <thead>\n",
              "    <tr style=\"text-align: right;\">\n",
              "      <th></th>\n",
              "      <th>date</th>\n",
              "      <th>home_team</th>\n",
              "      <th>away_team</th>\n",
              "      <th>home_score</th>\n",
              "      <th>away_score</th>\n",
              "      <th>tournament</th>\n",
              "      <th>city</th>\n",
              "      <th>country</th>\n",
              "      <th>neutral</th>\n",
              "      <th>year</th>\n",
              "      <th>month</th>\n",
              "      <th>home_rank</th>\n",
              "      <th>country_full</th>\n",
              "      <th>country_abrv</th>\n",
              "      <th>total_points</th>\n",
              "      <th>previous_points</th>\n",
              "      <th>rank_change</th>\n",
              "      <th>cur_year_avg</th>\n",
              "      <th>cur_year_avg_weighted</th>\n",
              "      <th>last_year_avg</th>\n",
              "      <th>last_year_avg_weighted</th>\n",
              "      <th>two_year_ago_avg</th>\n",
              "      <th>two_year_ago_weighted</th>\n",
              "      <th>three_year_ago_avg</th>\n",
              "      <th>three_year_ago_weighted</th>\n",
              "      <th>confederation</th>\n",
              "      <th>rank_date</th>\n",
              "      <th>away_rank</th>\n",
              "    </tr>\n",
              "  </thead>\n",
              "  <tbody>\n",
              "    <tr>\n",
              "      <th>1</th>\n",
              "      <td>1993-08-01</td>\n",
              "      <td>Colombia</td>\n",
              "      <td>Paraguay</td>\n",
              "      <td>0</td>\n",
              "      <td>0</td>\n",
              "      <td>FIFA World Cup qualification</td>\n",
              "      <td>Barranquilla</td>\n",
              "      <td>Colombia</td>\n",
              "      <td>False</td>\n",
              "      <td>1993</td>\n",
              "      <td>8</td>\n",
              "      <td>19</td>\n",
              "      <td>Colombia</td>\n",
              "      <td>COL</td>\n",
              "      <td>0.0</td>\n",
              "      <td>36</td>\n",
              "      <td>16</td>\n",
              "      <td>0.0</td>\n",
              "      <td>0.0</td>\n",
              "      <td>0.0</td>\n",
              "      <td>0.0</td>\n",
              "      <td>0.0</td>\n",
              "      <td>0.0</td>\n",
              "      <td>0.0</td>\n",
              "      <td>0.0</td>\n",
              "      <td>CONMEBOL</td>\n",
              "      <td>1993-08-08</td>\n",
              "      <td>67</td>\n",
              "    </tr>\n",
              "    <tr>\n",
              "      <th>3</th>\n",
              "      <td>1993-08-29</td>\n",
              "      <td>Argentina</td>\n",
              "      <td>Paraguay</td>\n",
              "      <td>0</td>\n",
              "      <td>0</td>\n",
              "      <td>FIFA World Cup qualification</td>\n",
              "      <td>Buenos Aires</td>\n",
              "      <td>Argentina</td>\n",
              "      <td>False</td>\n",
              "      <td>1993</td>\n",
              "      <td>8</td>\n",
              "      <td>5</td>\n",
              "      <td>Argentina</td>\n",
              "      <td>ARG</td>\n",
              "      <td>0.0</td>\n",
              "      <td>51</td>\n",
              "      <td>5</td>\n",
              "      <td>0.0</td>\n",
              "      <td>0.0</td>\n",
              "      <td>0.0</td>\n",
              "      <td>0.0</td>\n",
              "      <td>0.0</td>\n",
              "      <td>0.0</td>\n",
              "      <td>0.0</td>\n",
              "      <td>0.0</td>\n",
              "      <td>CONMEBOL</td>\n",
              "      <td>1993-08-08</td>\n",
              "      <td>67</td>\n",
              "    </tr>\n",
              "    <tr>\n",
              "      <th>5</th>\n",
              "      <td>1993-08-15</td>\n",
              "      <td>Colombia</td>\n",
              "      <td>Argentina</td>\n",
              "      <td>2</td>\n",
              "      <td>1</td>\n",
              "      <td>FIFA World Cup qualification</td>\n",
              "      <td>Barranquilla</td>\n",
              "      <td>Colombia</td>\n",
              "      <td>False</td>\n",
              "      <td>1993</td>\n",
              "      <td>8</td>\n",
              "      <td>19</td>\n",
              "      <td>Colombia</td>\n",
              "      <td>COL</td>\n",
              "      <td>0.0</td>\n",
              "      <td>36</td>\n",
              "      <td>16</td>\n",
              "      <td>0.0</td>\n",
              "      <td>0.0</td>\n",
              "      <td>0.0</td>\n",
              "      <td>0.0</td>\n",
              "      <td>0.0</td>\n",
              "      <td>0.0</td>\n",
              "      <td>0.0</td>\n",
              "      <td>0.0</td>\n",
              "      <td>CONMEBOL</td>\n",
              "      <td>1993-08-08</td>\n",
              "      <td>5</td>\n",
              "    </tr>\n",
              "    <tr>\n",
              "      <th>6</th>\n",
              "      <td>1993-08-15</td>\n",
              "      <td>Colombia</td>\n",
              "      <td>Argentina</td>\n",
              "      <td>2</td>\n",
              "      <td>1</td>\n",
              "      <td>FIFA World Cup qualification</td>\n",
              "      <td>Barranquilla</td>\n",
              "      <td>Colombia</td>\n",
              "      <td>False</td>\n",
              "      <td>1993</td>\n",
              "      <td>8</td>\n",
              "      <td>19</td>\n",
              "      <td>Colombia</td>\n",
              "      <td>COL</td>\n",
              "      <td>0.0</td>\n",
              "      <td>36</td>\n",
              "      <td>16</td>\n",
              "      <td>0.0</td>\n",
              "      <td>0.0</td>\n",
              "      <td>0.0</td>\n",
              "      <td>0.0</td>\n",
              "      <td>0.0</td>\n",
              "      <td>0.0</td>\n",
              "      <td>0.0</td>\n",
              "      <td>0.0</td>\n",
              "      <td>CONMEBOL</td>\n",
              "      <td>1993-08-08</td>\n",
              "      <td>5</td>\n",
              "    </tr>\n",
              "    <tr>\n",
              "      <th>8</th>\n",
              "      <td>1993-08-01</td>\n",
              "      <td>Peru</td>\n",
              "      <td>Argentina</td>\n",
              "      <td>0</td>\n",
              "      <td>1</td>\n",
              "      <td>FIFA World Cup qualification</td>\n",
              "      <td>Lima</td>\n",
              "      <td>Peru</td>\n",
              "      <td>False</td>\n",
              "      <td>1993</td>\n",
              "      <td>8</td>\n",
              "      <td>70</td>\n",
              "      <td>Peru</td>\n",
              "      <td>PER</td>\n",
              "      <td>0.0</td>\n",
              "      <td>16</td>\n",
              "      <td>8</td>\n",
              "      <td>0.0</td>\n",
              "      <td>0.0</td>\n",
              "      <td>0.0</td>\n",
              "      <td>0.0</td>\n",
              "      <td>0.0</td>\n",
              "      <td>0.0</td>\n",
              "      <td>0.0</td>\n",
              "      <td>0.0</td>\n",
              "      <td>CONMEBOL</td>\n",
              "      <td>1993-08-08</td>\n",
              "      <td>5</td>\n",
              "    </tr>\n",
              "  </tbody>\n",
              "</table>\n",
              "</div>"
            ],
            "text/plain": [
              "        date  home_team  away_team  ...  confederation  rank_date away_rank\n",
              "1 1993-08-01   Colombia   Paraguay  ...       CONMEBOL 1993-08-08        67\n",
              "3 1993-08-29  Argentina   Paraguay  ...       CONMEBOL 1993-08-08        67\n",
              "5 1993-08-15   Colombia  Argentina  ...       CONMEBOL 1993-08-08         5\n",
              "6 1993-08-15   Colombia  Argentina  ...       CONMEBOL 1993-08-08         5\n",
              "8 1993-08-01       Peru  Argentina  ...       CONMEBOL 1993-08-08         5\n",
              "\n",
              "[5 rows x 28 columns]"
            ]
          },
          "metadata": {
            "tags": []
          },
          "execution_count": 200
        }
      ]
    },
    {
      "cell_type": "code",
      "metadata": {
        "id": "OMBjzB1FNbLH",
        "colab_type": "code",
        "colab": {
          "base_uri": "https://localhost:8080/",
          "height": 34
        },
        "outputId": "087e3a5d-078f-4c8f-c40d-f8b2ba3b2121"
      },
      "source": [
        "fifa_df.shape"
      ],
      "execution_count": 201,
      "outputs": [
        {
          "output_type": "execute_result",
          "data": {
            "text/plain": [
              "(28439, 28)"
            ]
          },
          "metadata": {
            "tags": []
          },
          "execution_count": 201
        }
      ]
    },
    {
      "cell_type": "code",
      "metadata": {
        "id": "x-dAQlHSww59",
        "colab_type": "code",
        "colab": {}
      },
      "source": [
        "# Dropping duplicate rows from the dataset\n",
        "#\n",
        "fifa_df.drop_duplicates(keep = 'first', inplace = True)"
      ],
      "execution_count": 0,
      "outputs": []
    },
    {
      "cell_type": "code",
      "metadata": {
        "id": "-1xvWGsmO0D_",
        "colab_type": "code",
        "colab": {}
      },
      "source": [
        "# Resettinfg the index column after dropping duplicate values\n",
        "fifa_df.reset_index(drop = True, inplace = True)"
      ],
      "execution_count": 0,
      "outputs": []
    },
    {
      "cell_type": "code",
      "metadata": {
        "id": "8nYJra5mPYZb",
        "colab_type": "code",
        "colab": {
          "base_uri": "https://localhost:8080/",
          "height": 304
        },
        "outputId": "562c99b5-8c63-4d3b-f29c-83d654784499"
      },
      "source": [
        "fifa_df.tail()"
      ],
      "execution_count": 204,
      "outputs": [
        {
          "output_type": "execute_result",
          "data": {
            "text/html": [
              "<div>\n",
              "<style scoped>\n",
              "    .dataframe tbody tr th:only-of-type {\n",
              "        vertical-align: middle;\n",
              "    }\n",
              "\n",
              "    .dataframe tbody tr th {\n",
              "        vertical-align: top;\n",
              "    }\n",
              "\n",
              "    .dataframe thead th {\n",
              "        text-align: right;\n",
              "    }\n",
              "</style>\n",
              "<table border=\"1\" class=\"dataframe\">\n",
              "  <thead>\n",
              "    <tr style=\"text-align: right;\">\n",
              "      <th></th>\n",
              "      <th>date</th>\n",
              "      <th>home_team</th>\n",
              "      <th>away_team</th>\n",
              "      <th>home_score</th>\n",
              "      <th>away_score</th>\n",
              "      <th>tournament</th>\n",
              "      <th>city</th>\n",
              "      <th>country</th>\n",
              "      <th>neutral</th>\n",
              "      <th>year</th>\n",
              "      <th>month</th>\n",
              "      <th>home_rank</th>\n",
              "      <th>country_full</th>\n",
              "      <th>country_abrv</th>\n",
              "      <th>total_points</th>\n",
              "      <th>previous_points</th>\n",
              "      <th>rank_change</th>\n",
              "      <th>cur_year_avg</th>\n",
              "      <th>cur_year_avg_weighted</th>\n",
              "      <th>last_year_avg</th>\n",
              "      <th>last_year_avg_weighted</th>\n",
              "      <th>two_year_ago_avg</th>\n",
              "      <th>two_year_ago_weighted</th>\n",
              "      <th>three_year_ago_avg</th>\n",
              "      <th>three_year_ago_weighted</th>\n",
              "      <th>confederation</th>\n",
              "      <th>rank_date</th>\n",
              "      <th>away_rank</th>\n",
              "    </tr>\n",
              "  </thead>\n",
              "  <tbody>\n",
              "    <tr>\n",
              "      <th>16899</th>\n",
              "      <td>2018-06-18</td>\n",
              "      <td>Tunisia</td>\n",
              "      <td>England</td>\n",
              "      <td>1</td>\n",
              "      <td>2</td>\n",
              "      <td>FIFA World Cup</td>\n",
              "      <td>Volgograd</td>\n",
              "      <td>Russia</td>\n",
              "      <td>True</td>\n",
              "      <td>2018</td>\n",
              "      <td>6</td>\n",
              "      <td>21</td>\n",
              "      <td>Tunisia</td>\n",
              "      <td>TUN</td>\n",
              "      <td>909.91</td>\n",
              "      <td>1012</td>\n",
              "      <td>-7</td>\n",
              "      <td>545.56</td>\n",
              "      <td>545.56</td>\n",
              "      <td>394.79</td>\n",
              "      <td>197.39</td>\n",
              "      <td>227.59</td>\n",
              "      <td>68.28</td>\n",
              "      <td>493.39</td>\n",
              "      <td>98.68</td>\n",
              "      <td>CAF</td>\n",
              "      <td>2018-06-07</td>\n",
              "      <td>12</td>\n",
              "    </tr>\n",
              "    <tr>\n",
              "      <th>16900</th>\n",
              "      <td>2018-06-12</td>\n",
              "      <td>Japan</td>\n",
              "      <td>Paraguay</td>\n",
              "      <td>4</td>\n",
              "      <td>2</td>\n",
              "      <td>Friendly</td>\n",
              "      <td>Innsbruck</td>\n",
              "      <td>Austria</td>\n",
              "      <td>True</td>\n",
              "      <td>2018</td>\n",
              "      <td>6</td>\n",
              "      <td>61</td>\n",
              "      <td>Japan</td>\n",
              "      <td>JPN</td>\n",
              "      <td>520.75</td>\n",
              "      <td>528</td>\n",
              "      <td>-1</td>\n",
              "      <td>164.51</td>\n",
              "      <td>164.51</td>\n",
              "      <td>413.01</td>\n",
              "      <td>206.50</td>\n",
              "      <td>273.24</td>\n",
              "      <td>81.97</td>\n",
              "      <td>338.88</td>\n",
              "      <td>67.78</td>\n",
              "      <td>AFC</td>\n",
              "      <td>2018-06-07</td>\n",
              "      <td>32</td>\n",
              "    </tr>\n",
              "    <tr>\n",
              "      <th>16901</th>\n",
              "      <td>2018-06-28</td>\n",
              "      <td>Japan</td>\n",
              "      <td>Poland</td>\n",
              "      <td>0</td>\n",
              "      <td>1</td>\n",
              "      <td>FIFA World Cup</td>\n",
              "      <td>Volgograd</td>\n",
              "      <td>Russia</td>\n",
              "      <td>True</td>\n",
              "      <td>2018</td>\n",
              "      <td>6</td>\n",
              "      <td>61</td>\n",
              "      <td>Japan</td>\n",
              "      <td>JPN</td>\n",
              "      <td>520.75</td>\n",
              "      <td>528</td>\n",
              "      <td>-1</td>\n",
              "      <td>164.51</td>\n",
              "      <td>164.51</td>\n",
              "      <td>413.01</td>\n",
              "      <td>206.50</td>\n",
              "      <td>273.24</td>\n",
              "      <td>81.97</td>\n",
              "      <td>338.88</td>\n",
              "      <td>67.78</td>\n",
              "      <td>AFC</td>\n",
              "      <td>2018-06-07</td>\n",
              "      <td>8</td>\n",
              "    </tr>\n",
              "    <tr>\n",
              "      <th>16902</th>\n",
              "      <td>2018-06-16</td>\n",
              "      <td>Argentina</td>\n",
              "      <td>Iceland</td>\n",
              "      <td>1</td>\n",
              "      <td>1</td>\n",
              "      <td>FIFA World Cup</td>\n",
              "      <td>Moscow</td>\n",
              "      <td>Russia</td>\n",
              "      <td>True</td>\n",
              "      <td>2018</td>\n",
              "      <td>6</td>\n",
              "      <td>5</td>\n",
              "      <td>Argentina</td>\n",
              "      <td>ARG</td>\n",
              "      <td>1241.45</td>\n",
              "      <td>1254</td>\n",
              "      <td>0</td>\n",
              "      <td>404.07</td>\n",
              "      <td>404.07</td>\n",
              "      <td>809.59</td>\n",
              "      <td>404.80</td>\n",
              "      <td>829.98</td>\n",
              "      <td>248.99</td>\n",
              "      <td>917.94</td>\n",
              "      <td>183.59</td>\n",
              "      <td>CONMEBOL</td>\n",
              "      <td>2018-06-07</td>\n",
              "      <td>22</td>\n",
              "    </tr>\n",
              "    <tr>\n",
              "      <th>16903</th>\n",
              "      <td>2018-06-22</td>\n",
              "      <td>Nigeria</td>\n",
              "      <td>Iceland</td>\n",
              "      <td>2</td>\n",
              "      <td>0</td>\n",
              "      <td>FIFA World Cup</td>\n",
              "      <td>Volgograd</td>\n",
              "      <td>Russia</td>\n",
              "      <td>True</td>\n",
              "      <td>2018</td>\n",
              "      <td>6</td>\n",
              "      <td>48</td>\n",
              "      <td>Nigeria</td>\n",
              "      <td>NGA</td>\n",
              "      <td>617.79</td>\n",
              "      <td>635</td>\n",
              "      <td>-1</td>\n",
              "      <td>251.21</td>\n",
              "      <td>251.21</td>\n",
              "      <td>474.22</td>\n",
              "      <td>237.11</td>\n",
              "      <td>198.21</td>\n",
              "      <td>59.46</td>\n",
              "      <td>350.01</td>\n",
              "      <td>70.00</td>\n",
              "      <td>CAF</td>\n",
              "      <td>2018-06-07</td>\n",
              "      <td>22</td>\n",
              "    </tr>\n",
              "  </tbody>\n",
              "</table>\n",
              "</div>"
            ],
            "text/plain": [
              "            date  home_team away_team  ...  confederation  rank_date away_rank\n",
              "16899 2018-06-18    Tunisia   England  ...            CAF 2018-06-07        12\n",
              "16900 2018-06-12      Japan  Paraguay  ...            AFC 2018-06-07        32\n",
              "16901 2018-06-28      Japan    Poland  ...            AFC 2018-06-07         8\n",
              "16902 2018-06-16  Argentina   Iceland  ...       CONMEBOL 2018-06-07        22\n",
              "16903 2018-06-22    Nigeria   Iceland  ...            CAF 2018-06-07        22\n",
              "\n",
              "[5 rows x 28 columns]"
            ]
          },
          "metadata": {
            "tags": []
          },
          "execution_count": 204
        }
      ]
    },
    {
      "cell_type": "code",
      "metadata": {
        "id": "Yv_3-1DTQ_FV",
        "colab_type": "code",
        "colab": {
          "base_uri": "https://localhost:8080/",
          "height": 526
        },
        "outputId": "c4118eb6-a775-4458-bdde-4b03f7f3a7d5"
      },
      "source": [
        "fifa_df.isnull().sum()"
      ],
      "execution_count": 205,
      "outputs": [
        {
          "output_type": "execute_result",
          "data": {
            "text/plain": [
              "date                       0\n",
              "home_team                  0\n",
              "away_team                  0\n",
              "home_score                 0\n",
              "away_score                 0\n",
              "tournament                 0\n",
              "city                       0\n",
              "country                    0\n",
              "neutral                    0\n",
              "year                       0\n",
              "month                      0\n",
              "home_rank                  0\n",
              "country_full               0\n",
              "country_abrv               0\n",
              "total_points               0\n",
              "previous_points            0\n",
              "rank_change                0\n",
              "cur_year_avg               0\n",
              "cur_year_avg_weighted      0\n",
              "last_year_avg              0\n",
              "last_year_avg_weighted     0\n",
              "two_year_ago_avg           0\n",
              "two_year_ago_weighted      0\n",
              "three_year_ago_avg         0\n",
              "three_year_ago_weighted    0\n",
              "confederation              0\n",
              "rank_date                  0\n",
              "away_rank                  0\n",
              "dtype: int64"
            ]
          },
          "metadata": {
            "tags": []
          },
          "execution_count": 205
        }
      ]
    },
    {
      "cell_type": "code",
      "metadata": {
        "id": "ynJY7xd81g4E",
        "colab_type": "code",
        "colab": {}
      },
      "source": [
        "fifa_df.to_csv('fifa_dataset.csv')"
      ],
      "execution_count": 0,
      "outputs": []
    },
    {
      "cell_type": "code",
      "metadata": {
        "id": "V6zOQRTnDl7G",
        "colab_type": "code",
        "colab": {}
      },
      "source": [
        "# Lets change the non-numerical datatypes into categorical data \n",
        "#\n",
        "\n",
        "#columns = ['confederation', 'year', 'month', 'home_team', 'away_team', 'tournament', 'city', 'neutral' ]\n",
        "\n",
        "#fifa_df[columns] = fifa_df[columns].astype('category')\n",
        "#fifa_df.dtypes\n"
      ],
      "execution_count": 0,
      "outputs": []
    },
    {
      "cell_type": "code",
      "metadata": {
        "id": "aln_05Mvtq8R",
        "colab_type": "code",
        "colab": {
          "base_uri": "https://localhost:8080/",
          "height": 389
        },
        "outputId": "03739fdd-44f0-455e-9be3-6895729fd3b2"
      },
      "source": [
        "fifa_df.head()"
      ],
      "execution_count": 207,
      "outputs": [
        {
          "output_type": "execute_result",
          "data": {
            "text/html": [
              "<div>\n",
              "<style scoped>\n",
              "    .dataframe tbody tr th:only-of-type {\n",
              "        vertical-align: middle;\n",
              "    }\n",
              "\n",
              "    .dataframe tbody tr th {\n",
              "        vertical-align: top;\n",
              "    }\n",
              "\n",
              "    .dataframe thead th {\n",
              "        text-align: right;\n",
              "    }\n",
              "</style>\n",
              "<table border=\"1\" class=\"dataframe\">\n",
              "  <thead>\n",
              "    <tr style=\"text-align: right;\">\n",
              "      <th></th>\n",
              "      <th>date</th>\n",
              "      <th>home_team</th>\n",
              "      <th>away_team</th>\n",
              "      <th>home_score</th>\n",
              "      <th>away_score</th>\n",
              "      <th>tournament</th>\n",
              "      <th>city</th>\n",
              "      <th>country</th>\n",
              "      <th>neutral</th>\n",
              "      <th>year</th>\n",
              "      <th>month</th>\n",
              "      <th>home_rank</th>\n",
              "      <th>country_full</th>\n",
              "      <th>country_abrv</th>\n",
              "      <th>total_points</th>\n",
              "      <th>previous_points</th>\n",
              "      <th>rank_change</th>\n",
              "      <th>cur_year_avg</th>\n",
              "      <th>cur_year_avg_weighted</th>\n",
              "      <th>last_year_avg</th>\n",
              "      <th>last_year_avg_weighted</th>\n",
              "      <th>two_year_ago_avg</th>\n",
              "      <th>two_year_ago_weighted</th>\n",
              "      <th>three_year_ago_avg</th>\n",
              "      <th>three_year_ago_weighted</th>\n",
              "      <th>confederation</th>\n",
              "      <th>rank_date</th>\n",
              "      <th>away_rank</th>\n",
              "    </tr>\n",
              "  </thead>\n",
              "  <tbody>\n",
              "    <tr>\n",
              "      <th>0</th>\n",
              "      <td>1993-08-01</td>\n",
              "      <td>Colombia</td>\n",
              "      <td>Paraguay</td>\n",
              "      <td>0</td>\n",
              "      <td>0</td>\n",
              "      <td>FIFA World Cup qualification</td>\n",
              "      <td>Barranquilla</td>\n",
              "      <td>Colombia</td>\n",
              "      <td>False</td>\n",
              "      <td>1993</td>\n",
              "      <td>8</td>\n",
              "      <td>19</td>\n",
              "      <td>Colombia</td>\n",
              "      <td>COL</td>\n",
              "      <td>0.0</td>\n",
              "      <td>36</td>\n",
              "      <td>16</td>\n",
              "      <td>0.0</td>\n",
              "      <td>0.0</td>\n",
              "      <td>0.0</td>\n",
              "      <td>0.0</td>\n",
              "      <td>0.0</td>\n",
              "      <td>0.0</td>\n",
              "      <td>0.0</td>\n",
              "      <td>0.0</td>\n",
              "      <td>CONMEBOL</td>\n",
              "      <td>1993-08-08</td>\n",
              "      <td>67</td>\n",
              "    </tr>\n",
              "    <tr>\n",
              "      <th>1</th>\n",
              "      <td>1993-08-29</td>\n",
              "      <td>Argentina</td>\n",
              "      <td>Paraguay</td>\n",
              "      <td>0</td>\n",
              "      <td>0</td>\n",
              "      <td>FIFA World Cup qualification</td>\n",
              "      <td>Buenos Aires</td>\n",
              "      <td>Argentina</td>\n",
              "      <td>False</td>\n",
              "      <td>1993</td>\n",
              "      <td>8</td>\n",
              "      <td>5</td>\n",
              "      <td>Argentina</td>\n",
              "      <td>ARG</td>\n",
              "      <td>0.0</td>\n",
              "      <td>51</td>\n",
              "      <td>5</td>\n",
              "      <td>0.0</td>\n",
              "      <td>0.0</td>\n",
              "      <td>0.0</td>\n",
              "      <td>0.0</td>\n",
              "      <td>0.0</td>\n",
              "      <td>0.0</td>\n",
              "      <td>0.0</td>\n",
              "      <td>0.0</td>\n",
              "      <td>CONMEBOL</td>\n",
              "      <td>1993-08-08</td>\n",
              "      <td>67</td>\n",
              "    </tr>\n",
              "    <tr>\n",
              "      <th>2</th>\n",
              "      <td>1993-08-15</td>\n",
              "      <td>Colombia</td>\n",
              "      <td>Argentina</td>\n",
              "      <td>2</td>\n",
              "      <td>1</td>\n",
              "      <td>FIFA World Cup qualification</td>\n",
              "      <td>Barranquilla</td>\n",
              "      <td>Colombia</td>\n",
              "      <td>False</td>\n",
              "      <td>1993</td>\n",
              "      <td>8</td>\n",
              "      <td>19</td>\n",
              "      <td>Colombia</td>\n",
              "      <td>COL</td>\n",
              "      <td>0.0</td>\n",
              "      <td>36</td>\n",
              "      <td>16</td>\n",
              "      <td>0.0</td>\n",
              "      <td>0.0</td>\n",
              "      <td>0.0</td>\n",
              "      <td>0.0</td>\n",
              "      <td>0.0</td>\n",
              "      <td>0.0</td>\n",
              "      <td>0.0</td>\n",
              "      <td>0.0</td>\n",
              "      <td>CONMEBOL</td>\n",
              "      <td>1993-08-08</td>\n",
              "      <td>5</td>\n",
              "    </tr>\n",
              "    <tr>\n",
              "      <th>3</th>\n",
              "      <td>1993-08-01</td>\n",
              "      <td>Peru</td>\n",
              "      <td>Argentina</td>\n",
              "      <td>0</td>\n",
              "      <td>1</td>\n",
              "      <td>FIFA World Cup qualification</td>\n",
              "      <td>Lima</td>\n",
              "      <td>Peru</td>\n",
              "      <td>False</td>\n",
              "      <td>1993</td>\n",
              "      <td>8</td>\n",
              "      <td>70</td>\n",
              "      <td>Peru</td>\n",
              "      <td>PER</td>\n",
              "      <td>0.0</td>\n",
              "      <td>16</td>\n",
              "      <td>8</td>\n",
              "      <td>0.0</td>\n",
              "      <td>0.0</td>\n",
              "      <td>0.0</td>\n",
              "      <td>0.0</td>\n",
              "      <td>0.0</td>\n",
              "      <td>0.0</td>\n",
              "      <td>0.0</td>\n",
              "      <td>0.0</td>\n",
              "      <td>CONMEBOL</td>\n",
              "      <td>1993-08-08</td>\n",
              "      <td>5</td>\n",
              "    </tr>\n",
              "    <tr>\n",
              "      <th>4</th>\n",
              "      <td>1993-08-08</td>\n",
              "      <td>Paraguay</td>\n",
              "      <td>Argentina</td>\n",
              "      <td>1</td>\n",
              "      <td>3</td>\n",
              "      <td>FIFA World Cup qualification</td>\n",
              "      <td>Asunción</td>\n",
              "      <td>Paraguay</td>\n",
              "      <td>False</td>\n",
              "      <td>1993</td>\n",
              "      <td>8</td>\n",
              "      <td>67</td>\n",
              "      <td>Paraguay</td>\n",
              "      <td>PAR</td>\n",
              "      <td>0.0</td>\n",
              "      <td>22</td>\n",
              "      <td>1</td>\n",
              "      <td>0.0</td>\n",
              "      <td>0.0</td>\n",
              "      <td>0.0</td>\n",
              "      <td>0.0</td>\n",
              "      <td>0.0</td>\n",
              "      <td>0.0</td>\n",
              "      <td>0.0</td>\n",
              "      <td>0.0</td>\n",
              "      <td>CONMEBOL</td>\n",
              "      <td>1993-08-08</td>\n",
              "      <td>5</td>\n",
              "    </tr>\n",
              "  </tbody>\n",
              "</table>\n",
              "</div>"
            ],
            "text/plain": [
              "        date  home_team  away_team  ...  confederation  rank_date away_rank\n",
              "0 1993-08-01   Colombia   Paraguay  ...       CONMEBOL 1993-08-08        67\n",
              "1 1993-08-29  Argentina   Paraguay  ...       CONMEBOL 1993-08-08        67\n",
              "2 1993-08-15   Colombia  Argentina  ...       CONMEBOL 1993-08-08         5\n",
              "3 1993-08-01       Peru  Argentina  ...       CONMEBOL 1993-08-08         5\n",
              "4 1993-08-08   Paraguay  Argentina  ...       CONMEBOL 1993-08-08         5\n",
              "\n",
              "[5 rows x 28 columns]"
            ]
          },
          "metadata": {
            "tags": []
          },
          "execution_count": 207
        }
      ]
    },
    {
      "cell_type": "markdown",
      "metadata": {
        "id": "byWgIs0tCL0-",
        "colab_type": "text"
      },
      "source": [
        "## Exploratory Data Analysis (EDA)"
      ]
    },
    {
      "cell_type": "markdown",
      "metadata": {
        "id": "66fApPZcCT7o",
        "colab_type": "text"
      },
      "source": [
        "### Univariate Analysis"
      ]
    },
    {
      "cell_type": "markdown",
      "metadata": {
        "id": "EKXRZ_EsDBAc",
        "colab_type": "text"
      },
      "source": [
        "#### Non-Grahical Univariate EDA"
      ]
    },
    {
      "cell_type": "code",
      "metadata": {
        "id": "oQ2VWobMC5S5",
        "colab_type": "code",
        "colab": {
          "base_uri": "https://localhost:8080/",
          "height": 310
        },
        "outputId": "4b279324-b844-4032-c310-554d66ca693e"
      },
      "source": [
        "fifa_df.describe()"
      ],
      "execution_count": 208,
      "outputs": [
        {
          "output_type": "execute_result",
          "data": {
            "text/html": [
              "<div>\n",
              "<style scoped>\n",
              "    .dataframe tbody tr th:only-of-type {\n",
              "        vertical-align: middle;\n",
              "    }\n",
              "\n",
              "    .dataframe tbody tr th {\n",
              "        vertical-align: top;\n",
              "    }\n",
              "\n",
              "    .dataframe thead th {\n",
              "        text-align: right;\n",
              "    }\n",
              "</style>\n",
              "<table border=\"1\" class=\"dataframe\">\n",
              "  <thead>\n",
              "    <tr style=\"text-align: right;\">\n",
              "      <th></th>\n",
              "      <th>home_score</th>\n",
              "      <th>away_score</th>\n",
              "      <th>year</th>\n",
              "      <th>month</th>\n",
              "      <th>home_rank</th>\n",
              "      <th>total_points</th>\n",
              "      <th>previous_points</th>\n",
              "      <th>rank_change</th>\n",
              "      <th>cur_year_avg</th>\n",
              "      <th>cur_year_avg_weighted</th>\n",
              "      <th>last_year_avg</th>\n",
              "      <th>last_year_avg_weighted</th>\n",
              "      <th>two_year_ago_avg</th>\n",
              "      <th>two_year_ago_weighted</th>\n",
              "      <th>three_year_ago_avg</th>\n",
              "      <th>three_year_ago_weighted</th>\n",
              "      <th>away_rank</th>\n",
              "    </tr>\n",
              "  </thead>\n",
              "  <tbody>\n",
              "    <tr>\n",
              "      <th>count</th>\n",
              "      <td>16904.000000</td>\n",
              "      <td>16904.000000</td>\n",
              "      <td>16904.000000</td>\n",
              "      <td>16904.000000</td>\n",
              "      <td>16904.000000</td>\n",
              "      <td>16904.000000</td>\n",
              "      <td>16904.000000</td>\n",
              "      <td>16904.000000</td>\n",
              "      <td>16904.000000</td>\n",
              "      <td>16904.000000</td>\n",
              "      <td>16904.000000</td>\n",
              "      <td>16904.000000</td>\n",
              "      <td>16904.000000</td>\n",
              "      <td>16904.000000</td>\n",
              "      <td>16904.000000</td>\n",
              "      <td>16904.000000</td>\n",
              "      <td>16904.000000</td>\n",
              "    </tr>\n",
              "    <tr>\n",
              "      <th>mean</th>\n",
              "      <td>1.603999</td>\n",
              "      <td>1.068268</td>\n",
              "      <td>2006.490771</td>\n",
              "      <td>6.877307</td>\n",
              "      <td>76.056377</td>\n",
              "      <td>165.794733</td>\n",
              "      <td>435.065783</td>\n",
              "      <td>0.936583</td>\n",
              "      <td>83.987919</td>\n",
              "      <td>83.987919</td>\n",
              "      <td>82.906679</td>\n",
              "      <td>41.453431</td>\n",
              "      <td>79.703732</td>\n",
              "      <td>23.911149</td>\n",
              "      <td>82.212241</td>\n",
              "      <td>16.442486</td>\n",
              "      <td>78.918836</td>\n",
              "    </tr>\n",
              "    <tr>\n",
              "      <th>std</th>\n",
              "      <td>1.615409</td>\n",
              "      <td>1.245122</td>\n",
              "      <td>6.803461</td>\n",
              "      <td>3.273882</td>\n",
              "      <td>50.833721</td>\n",
              "      <td>313.589797</td>\n",
              "      <td>319.215750</td>\n",
              "      <td>6.851801</td>\n",
              "      <td>164.722951</td>\n",
              "      <td>164.722951</td>\n",
              "      <td>167.037324</td>\n",
              "      <td>83.518712</td>\n",
              "      <td>160.712955</td>\n",
              "      <td>48.213890</td>\n",
              "      <td>165.609782</td>\n",
              "      <td>33.121970</td>\n",
              "      <td>52.027710</td>\n",
              "    </tr>\n",
              "    <tr>\n",
              "      <th>min</th>\n",
              "      <td>0.000000</td>\n",
              "      <td>0.000000</td>\n",
              "      <td>1993.000000</td>\n",
              "      <td>1.000000</td>\n",
              "      <td>1.000000</td>\n",
              "      <td>0.000000</td>\n",
              "      <td>0.000000</td>\n",
              "      <td>-62.000000</td>\n",
              "      <td>0.000000</td>\n",
              "      <td>0.000000</td>\n",
              "      <td>0.000000</td>\n",
              "      <td>0.000000</td>\n",
              "      <td>0.000000</td>\n",
              "      <td>0.000000</td>\n",
              "      <td>0.000000</td>\n",
              "      <td>0.000000</td>\n",
              "      <td>1.000000</td>\n",
              "    </tr>\n",
              "    <tr>\n",
              "      <th>25%</th>\n",
              "      <td>0.000000</td>\n",
              "      <td>0.000000</td>\n",
              "      <td>2001.000000</td>\n",
              "      <td>4.000000</td>\n",
              "      <td>33.000000</td>\n",
              "      <td>0.000000</td>\n",
              "      <td>174.000000</td>\n",
              "      <td>-2.000000</td>\n",
              "      <td>0.000000</td>\n",
              "      <td>0.000000</td>\n",
              "      <td>0.000000</td>\n",
              "      <td>0.000000</td>\n",
              "      <td>0.000000</td>\n",
              "      <td>0.000000</td>\n",
              "      <td>0.000000</td>\n",
              "      <td>0.000000</td>\n",
              "      <td>35.000000</td>\n",
              "    </tr>\n",
              "    <tr>\n",
              "      <th>50%</th>\n",
              "      <td>1.000000</td>\n",
              "      <td>1.000000</td>\n",
              "      <td>2007.000000</td>\n",
              "      <td>7.000000</td>\n",
              "      <td>70.000000</td>\n",
              "      <td>0.000000</td>\n",
              "      <td>417.000000</td>\n",
              "      <td>0.000000</td>\n",
              "      <td>0.000000</td>\n",
              "      <td>0.000000</td>\n",
              "      <td>0.000000</td>\n",
              "      <td>0.000000</td>\n",
              "      <td>0.000000</td>\n",
              "      <td>0.000000</td>\n",
              "      <td>0.000000</td>\n",
              "      <td>0.000000</td>\n",
              "      <td>72.000000</td>\n",
              "    </tr>\n",
              "    <tr>\n",
              "      <th>75%</th>\n",
              "      <td>2.000000</td>\n",
              "      <td>2.000000</td>\n",
              "      <td>2012.000000</td>\n",
              "      <td>10.000000</td>\n",
              "      <td>112.000000</td>\n",
              "      <td>230.425000</td>\n",
              "      <td>617.000000</td>\n",
              "      <td>3.000000</td>\n",
              "      <td>102.422500</td>\n",
              "      <td>102.422500</td>\n",
              "      <td>94.290000</td>\n",
              "      <td>47.140000</td>\n",
              "      <td>85.872500</td>\n",
              "      <td>25.762500</td>\n",
              "      <td>88.435000</td>\n",
              "      <td>17.687500</td>\n",
              "      <td>115.000000</td>\n",
              "    </tr>\n",
              "    <tr>\n",
              "      <th>max</th>\n",
              "      <td>31.000000</td>\n",
              "      <td>15.000000</td>\n",
              "      <td>2018.000000</td>\n",
              "      <td>12.000000</td>\n",
              "      <td>209.000000</td>\n",
              "      <td>1770.060000</td>\n",
              "      <td>1887.000000</td>\n",
              "      <td>73.000000</td>\n",
              "      <td>1158.660000</td>\n",
              "      <td>1158.660000</td>\n",
              "      <td>1169.570000</td>\n",
              "      <td>584.790000</td>\n",
              "      <td>1153.120000</td>\n",
              "      <td>345.940000</td>\n",
              "      <td>1200.770000</td>\n",
              "      <td>240.150000</td>\n",
              "      <td>209.000000</td>\n",
              "    </tr>\n",
              "  </tbody>\n",
              "</table>\n",
              "</div>"
            ],
            "text/plain": [
              "         home_score    away_score  ...  three_year_ago_weighted     away_rank\n",
              "count  16904.000000  16904.000000  ...             16904.000000  16904.000000\n",
              "mean       1.603999      1.068268  ...                16.442486     78.918836\n",
              "std        1.615409      1.245122  ...                33.121970     52.027710\n",
              "min        0.000000      0.000000  ...                 0.000000      1.000000\n",
              "25%        0.000000      0.000000  ...                 0.000000     35.000000\n",
              "50%        1.000000      1.000000  ...                 0.000000     72.000000\n",
              "75%        2.000000      2.000000  ...                17.687500    115.000000\n",
              "max       31.000000     15.000000  ...               240.150000    209.000000\n",
              "\n",
              "[8 rows x 17 columns]"
            ]
          },
          "metadata": {
            "tags": []
          },
          "execution_count": 208
        }
      ]
    },
    {
      "cell_type": "code",
      "metadata": {
        "id": "BwhWcvuSRdI2",
        "colab_type": "code",
        "colab": {
          "base_uri": "https://localhost:8080/",
          "height": 157
        },
        "outputId": "b24008b2-5373-49c6-cff1-029a7c01e730"
      },
      "source": [
        "fifa_df.columns"
      ],
      "execution_count": 209,
      "outputs": [
        {
          "output_type": "execute_result",
          "data": {
            "text/plain": [
              "Index(['date', 'home_team', 'away_team', 'home_score', 'away_score',\n",
              "       'tournament', 'city', 'country', 'neutral', 'year', 'month',\n",
              "       'home_rank', 'country_full', 'country_abrv', 'total_points',\n",
              "       'previous_points', 'rank_change', 'cur_year_avg',\n",
              "       'cur_year_avg_weighted', 'last_year_avg', 'last_year_avg_weighted',\n",
              "       'two_year_ago_avg', 'two_year_ago_weighted', 'three_year_ago_avg',\n",
              "       'three_year_ago_weighted', 'confederation', 'rank_date', 'away_rank'],\n",
              "      dtype='object')"
            ]
          },
          "metadata": {
            "tags": []
          },
          "execution_count": 209
        }
      ]
    },
    {
      "cell_type": "markdown",
      "metadata": {
        "id": "eXwKOOUtKCBq",
        "colab_type": "text"
      },
      "source": [
        "#### Graphical Univariate EDA"
      ]
    },
    {
      "cell_type": "code",
      "metadata": {
        "id": "udherJhhfzjQ",
        "colab_type": "code",
        "colab": {
          "base_uri": "https://localhost:8080/",
          "height": 1000
        },
        "outputId": "589cc8d9-e877-405e-b2e9-35c1dffabcea"
      },
      "source": [
        "# Using the seaborn library to plot a histogram \n",
        "#\n",
        "\n",
        "plt.subplots(figsize =  (15,8))\n",
        "sns.distplot(fifa_df.home_score,hist = True, norm_hist = True, bins = None)\n",
        "\n",
        "\n",
        "plt.xlabel('Home Score ', color = 'black', fontsize =12)\n",
        "plt.ylabel('Probability', color ='black', fontsize = 12)\n",
        "plt.title('Distribution of Home Goals Scored', color = 'black', fontsize = 14)\n",
        "plt.show()\n",
        "print('\\n')\n",
        "\n",
        "\n",
        "plt.subplots(figsize =  (15,8))\n",
        "sns.distplot(fifa_df.away_score,hist = True,  bins = None)\n",
        "\n",
        "\n",
        "plt.xlabel('Away Score ', color = 'black', fontsize =12)\n",
        "plt.ylabel('Probability', color ='black', fontsize = 12)\n",
        "plt.title('Distribution of Away Goals Scored', color = 'black', fontsize = 14)\n",
        "plt.show()"
      ],
      "execution_count": 210,
      "outputs": [
        {
          "output_type": "display_data",
          "data": {
            "image/png": "[encoded data removed]",
            "text/plain": [
              "<Figure size 1080x576 with 1 Axes>"
            ]
          },
          "metadata": {
            "tags": []
          }
        },
        {
          "output_type": "stream",
          "text": [
            "\n",
            "\n"
          ],
          "name": "stdout"
        },
        {
          "output_type": "display_data",
          "data": {
            "image/png": "[encoded data removed]",
            "text/plain": [
              "<Figure size 1080x576 with 1 Axes>"
            ]
          },
          "metadata": {
            "tags": []
          }
        }
      ]
    },
    {
      "cell_type": "code",
      "metadata": {
        "id": "LQx9-4jDsY9g",
        "colab_type": "code",
        "colab": {
          "base_uri": "https://localhost:8080/",
          "height": 526
        },
        "outputId": "7fd42be2-5adc-427a-ad76-fce069d4f7b6"
      },
      "source": [
        "fifa_df.dtypes"
      ],
      "execution_count": 214,
      "outputs": [
        {
          "output_type": "execute_result",
          "data": {
            "text/plain": [
              "date                       datetime64[ns]\n",
              "home_team                          object\n",
              "away_team                          object\n",
              "home_score                          int64\n",
              "away_score                          int64\n",
              "tournament                         object\n",
              "city                               object\n",
              "country                            object\n",
              "neutral                              bool\n",
              "year                                int64\n",
              "month                               int64\n",
              "home_rank                           int64\n",
              "country_full                       object\n",
              "country_abrv                       object\n",
              "total_points                      float64\n",
              "previous_points                     int64\n",
              "rank_change                         int64\n",
              "cur_year_avg                      float64\n",
              "cur_year_avg_weighted             float64\n",
              "last_year_avg                     float64\n",
              "last_year_avg_weighted            float64\n",
              "two_year_ago_avg                  float64\n",
              "two_year_ago_weighted             float64\n",
              "three_year_ago_avg                float64\n",
              "three_year_ago_weighted           float64\n",
              "confederation                      object\n",
              "rank_date                  datetime64[ns]\n",
              "away_rank                           int64\n",
              "dtype: object"
            ]
          },
          "metadata": {
            "tags": []
          },
          "execution_count": 214
        }
      ]
    },
    {
      "cell_type": "markdown",
      "metadata": {
        "id": "-CmVrSA6up9a",
        "colab_type": "text"
      },
      "source": [
        "#### Boxplots used to detect anomalies"
      ]
    },
    {
      "cell_type": "code",
      "metadata": {
        "id": "aaHivtz2roSx",
        "colab_type": "code",
        "colab": {
          "base_uri": "https://localhost:8080/",
          "height": 1000
        },
        "outputId": "ed08e885-cdba-4297-e07a-718a207738f5"
      },
      "source": [
        "sns.boxplot(x = 'home_score', data = fifa_df, color = 'yellow')\n",
        "plt.title('Boxplot for Home Scores')\n",
        "plt.show()\n",
        "\n",
        "sns.boxplot(x = 'away_score', data = fifa_df, color = 'green')\n",
        "plt.title('Boxplot of Away Scores')\n",
        "plt.show()\n",
        "\n",
        "sns.boxplot(x = 'year', data = fifa_df, color = 'lightgreen')\n",
        "plt.title('Boxplot of Years')\n",
        "plt.show()\n",
        "\n",
        "sns.boxplot(x = 'month', data = fifa_df, color = 'violet')\n",
        "plt.title('Boxplot of Months')\n",
        "plt.show()\n",
        "\n",
        "sns.boxplot(x = 'previous_points', data = fifa_df, color = 'blue')\n",
        "plt.title('Boxplot of Previous Points')\n",
        "plt.show()\n",
        "\n",
        "sns.boxplot(x = 'rank_change', data = fifa_df, color = 'magenta' )\n",
        "plt.title('Boxplot of Change in Rank')\n",
        "plt.show()\n",
        "\n"
      ],
      "execution_count": 221,
      "outputs": [
        {
          "output_type": "display_data",
          "data": {
            "image/png": "[encoded data removed]",
            "text/plain": [
              "<Figure size 432x288 with 1 Axes>"
            ]
          },
          "metadata": {
            "tags": []
          }
        },
        {
          "output_type": "display_data",
          "data": {
            "image/png": "[encoded data removed]",
            "text/plain": [
              "<Figure size 432x288 with 1 Axes>"
            ]
          },
          "metadata": {
            "tags": []
          }
        },
        {
          "output_type": "display_data",
          "data": {
            "image/png": "[encoded data removed]",
            "text/plain": [
              "<Figure size 432x288 with 1 Axes>"
            ]
          },
          "metadata": {
            "tags": []
          }
        },
        {
          "output_type": "display_data",
          "data": {
            "image/png": "[encoded data removed]",
            "text/plain": [
              "<Figure size 432x288 with 1 Axes>"
            ]
          },
          "metadata": {
            "tags": []
          }
        },
        {
          "output_type": "display_data",
          "data": {
            "image/png": "[encoded data removed]",
            "text/plain": [
              "<Figure size 432x288 with 1 Axes>"
            ]
          },
          "metadata": {
            "tags": []
          }
        },
        {
          "output_type": "display_data",
          "data": {
            "image/png": "[encoded data removed]",
            "text/plain": [
              "<Figure size 432x288 with 1 Axes>"
            ]
          },
          "metadata": {
            "tags": []
          }
        }
      ]
    },
    {
      "cell_type": "markdown",
      "metadata": {
        "id": "MTRRq4B0CBy0",
        "colab_type": "text"
      },
      "source": [
        "## Featuring"
      ]
    },
    {
      "cell_type": "markdown",
      "metadata": {
        "id": "ZZ3bIzc7NXFn",
        "colab_type": "text"
      },
      "source": [
        "#### Creating Additional Columns "
      ]
    },
    {
      "cell_type": "code",
      "metadata": {
        "id": "IjyHXGa9NHqF",
        "colab_type": "code",
        "colab": {}
      },
      "source": [
        "# We will create a column that gives the difference in goals between the home team and the away team\n",
        "\n",
        "fifa_df['goal_difference'] = fifa_df.home_score - fifa_df.away_score\n",
        "\n"
      ],
      "execution_count": 0,
      "outputs": []
    },
    {
      "cell_type": "code",
      "metadata": {
        "id": "ApZHbDRNRlmv",
        "colab_type": "code",
        "colab": {}
      },
      "source": [
        "# We will also create a column that classifies the match outcome as either a win, loss or a draw with regards to the home team\n",
        "\n",
        "x = fifa_df.home_score - fifa_df.away_score\n",
        "\n",
        "def match_outcome(x):\n",
        "  if x > 0:\n",
        "    return 'Win'\n",
        "  elif x < 0:\n",
        "    return 'Loss'\n",
        "  else:\n",
        "    return 'Draw'\n",
        "\n",
        "# creating a new column to give the match oucome\n",
        "fifa_df['match_outcome'] = fifa_df.goal_difference.apply(lambda x: match_outcome(x))"
      ],
      "execution_count": 0,
      "outputs": []
    },
    {
      "cell_type": "code",
      "metadata": {
        "id": "UFbBJyEBeFKe",
        "colab_type": "code",
        "colab": {}
      },
      "source": [
        "# Creating a new column to give the type of tournament\n",
        "\n",
        "def tourn_type(i):\n",
        "  if i == 'FIFA World Cup':\n",
        "    return 'FIFA World Cup'\n",
        "  if i == 'Friendly':\n",
        "    return 'Friendly'\n",
        "  else:\n",
        "    return 'Other'\n",
        "\n",
        "fifa_df['tournament_type'] = fifa_df.tournament.apply(lambda x: tourn_type(x))"
      ],
      "execution_count": 0,
      "outputs": []
    },
    {
      "cell_type": "code",
      "metadata": {
        "id": "HWllKnZQllkf",
        "colab_type": "code",
        "colab": {}
      },
      "source": [
        "#[col for col in fifa_df.columns if col not in"
      ],
      "execution_count": 0,
      "outputs": []
    },
    {
      "cell_type": "markdown",
      "metadata": {
        "id": "IYFFI7xMkiPB",
        "colab_type": "text"
      },
      "source": [
        "#### Dropping Unnecessary Columns"
      ]
    },
    {
      "cell_type": "code",
      "metadata": {
        "id": "ofGSsVp2khx_",
        "colab_type": "code",
        "colab": {}
      },
      "source": [
        "# Dropping the categorical data that we will not need to fit into the training data\n",
        "#\n",
        "\n",
        "mycols =  ['date','rank_date','tournament', 'city', 'country','country_full', 'country_abrv', 'home_team','away_team', 'confederation']\n",
        "fifa_df.drop(mycols, axis = 1, inplace = True)"
      ],
      "execution_count": 0,
      "outputs": []
    },
    {
      "cell_type": "code",
      "metadata": {
        "id": "wIQy0Hd5l0Ub",
        "colab_type": "code",
        "colab": {
          "base_uri": "https://localhost:8080/",
          "height": 140
        },
        "outputId": "f84d55d7-6f21-49a7-f8ef-710d970569d0"
      },
      "source": [
        "fifa_df.columns"
      ],
      "execution_count": 103,
      "outputs": [
        {
          "output_type": "execute_result",
          "data": {
            "text/plain": [
              "Index(['home_score', 'away_score', 'neutral', 'year', 'month', 'home_rank',\n",
              "       'total_points', 'previous_points', 'rank_change', 'cur_year_avg',\n",
              "       'cur_year_avg_weighted', 'last_year_avg', 'last_year_avg_weighted',\n",
              "       'two_year_ago_avg', 'two_year_ago_weighted', 'three_year_ago_avg',\n",
              "       'three_year_ago_weighted', 'away_rank', 'goal_difference',\n",
              "       'match_outcome', 'tournament_type'],\n",
              "      dtype='object')"
            ]
          },
          "metadata": {
            "tags": []
          },
          "execution_count": 103
        }
      ]
    },
    {
      "cell_type": "code",
      "metadata": {
        "id": "whkBZdLcpe8E",
        "colab_type": "code",
        "colab": {
          "base_uri": "https://localhost:8080/",
          "height": 403
        },
        "outputId": "068e9f52-2dc2-4113-c11a-1e233512e26c"
      },
      "source": [
        "fifa_df.dtypes"
      ],
      "execution_count": 104,
      "outputs": [
        {
          "output_type": "execute_result",
          "data": {
            "text/plain": [
              "home_score                   int64\n",
              "away_score                   int64\n",
              "neutral                       bool\n",
              "year                         int64\n",
              "month                        int64\n",
              "home_rank                    int64\n",
              "total_points               float64\n",
              "previous_points              int64\n",
              "rank_change                  int64\n",
              "cur_year_avg               float64\n",
              "cur_year_avg_weighted      float64\n",
              "last_year_avg              float64\n",
              "last_year_avg_weighted     float64\n",
              "two_year_ago_avg           float64\n",
              "two_year_ago_weighted      float64\n",
              "three_year_ago_avg         float64\n",
              "three_year_ago_weighted    float64\n",
              "away_rank                    int64\n",
              "goal_difference              int64\n",
              "match_outcome               object\n",
              "tournament_type             object\n",
              "dtype: object"
            ]
          },
          "metadata": {
            "tags": []
          },
          "execution_count": 104
        }
      ]
    },
    {
      "cell_type": "markdown",
      "metadata": {
        "id": "twF3UH4qilh8",
        "colab_type": "text"
      },
      "source": [
        "#### Label Encoding Categorical Data"
      ]
    },
    {
      "cell_type": "code",
      "metadata": {
        "id": "RW-_8zN9irEd",
        "colab_type": "code",
        "colab": {
          "base_uri": "https://localhost:8080/",
          "height": 351
        },
        "outputId": "2ddd1b22-f878-40dc-99da-ab119f1af7c5"
      },
      "source": [
        "# Categorical boolean mask\n",
        "#\n",
        "\n",
        "#categorical_feature_mask = fifa_df.dtypes==object \n",
        "\n",
        "# filter categorical columns using mask and turn it into a list\n",
        "\n",
        "categorical_cols = ['neutral', 'tournament_type', 'match_outcome']\n",
        "\n",
        "le = LabelEncoder()\n",
        "\n",
        "# apply label encoder on categorical feature columns\n",
        "\n",
        "fifa_df[categorical_cols] = fifa_df[categorical_cols].apply(lambda x: le.fit_transform(x))\n",
        "\n",
        "fifa_df[categorical_cols].head(10)"
      ],
      "execution_count": 105,
      "outputs": [
        {
          "output_type": "execute_result",
          "data": {
            "text/html": [
              "<div>\n",
              "<style scoped>\n",
              "    .dataframe tbody tr th:only-of-type {\n",
              "        vertical-align: middle;\n",
              "    }\n",
              "\n",
              "    .dataframe tbody tr th {\n",
              "        vertical-align: top;\n",
              "    }\n",
              "\n",
              "    .dataframe thead th {\n",
              "        text-align: right;\n",
              "    }\n",
              "</style>\n",
              "<table border=\"1\" class=\"dataframe\">\n",
              "  <thead>\n",
              "    <tr style=\"text-align: right;\">\n",
              "      <th></th>\n",
              "      <th>neutral</th>\n",
              "      <th>tournament_type</th>\n",
              "      <th>match_outcome</th>\n",
              "    </tr>\n",
              "  </thead>\n",
              "  <tbody>\n",
              "    <tr>\n",
              "      <th>0</th>\n",
              "      <td>0</td>\n",
              "      <td>2</td>\n",
              "      <td>0</td>\n",
              "    </tr>\n",
              "    <tr>\n",
              "      <th>1</th>\n",
              "      <td>0</td>\n",
              "      <td>2</td>\n",
              "      <td>0</td>\n",
              "    </tr>\n",
              "    <tr>\n",
              "      <th>2</th>\n",
              "      <td>0</td>\n",
              "      <td>2</td>\n",
              "      <td>2</td>\n",
              "    </tr>\n",
              "    <tr>\n",
              "      <th>3</th>\n",
              "      <td>0</td>\n",
              "      <td>2</td>\n",
              "      <td>1</td>\n",
              "    </tr>\n",
              "    <tr>\n",
              "      <th>4</th>\n",
              "      <td>0</td>\n",
              "      <td>2</td>\n",
              "      <td>1</td>\n",
              "    </tr>\n",
              "    <tr>\n",
              "      <th>5</th>\n",
              "      <td>0</td>\n",
              "      <td>2</td>\n",
              "      <td>2</td>\n",
              "    </tr>\n",
              "    <tr>\n",
              "      <th>6</th>\n",
              "      <td>0</td>\n",
              "      <td>2</td>\n",
              "      <td>2</td>\n",
              "    </tr>\n",
              "    <tr>\n",
              "      <th>7</th>\n",
              "      <td>0</td>\n",
              "      <td>2</td>\n",
              "      <td>2</td>\n",
              "    </tr>\n",
              "    <tr>\n",
              "      <th>8</th>\n",
              "      <td>0</td>\n",
              "      <td>2</td>\n",
              "      <td>1</td>\n",
              "    </tr>\n",
              "    <tr>\n",
              "      <th>9</th>\n",
              "      <td>0</td>\n",
              "      <td>2</td>\n",
              "      <td>0</td>\n",
              "    </tr>\n",
              "  </tbody>\n",
              "</table>\n",
              "</div>"
            ],
            "text/plain": [
              "   neutral  tournament_type  match_outcome\n",
              "0        0                2              0\n",
              "1        0                2              0\n",
              "2        0                2              2\n",
              "3        0                2              1\n",
              "4        0                2              1\n",
              "5        0                2              2\n",
              "6        0                2              2\n",
              "7        0                2              2\n",
              "8        0                2              1\n",
              "9        0                2              0"
            ]
          },
          "metadata": {
            "tags": []
          },
          "execution_count": 105
        }
      ]
    },
    {
      "cell_type": "markdown",
      "metadata": {
        "id": "sVmL6VXPi76F",
        "colab_type": "text"
      },
      "source": [
        "#### Checking for Multicollinearity"
      ]
    },
    {
      "cell_type": "code",
      "metadata": {
        "id": "f1yJb8kfi6hS",
        "colab_type": "code",
        "colab": {
          "base_uri": "https://localhost:8080/",
          "height": 704
        },
        "outputId": "9f010984-b2ca-4adf-d05c-dfb4094b02ca"
      },
      "source": [
        "# Finding the correlation between variables\n",
        "#\n",
        "\n",
        "fifa_corr = fifa_df.corr()\n",
        "fifa_corr"
      ],
      "execution_count": 106,
      "outputs": [
        {
          "output_type": "execute_result",
          "data": {
            "text/html": [
              "<div>\n",
              "<style scoped>\n",
              "    .dataframe tbody tr th:only-of-type {\n",
              "        vertical-align: middle;\n",
              "    }\n",
              "\n",
              "    .dataframe tbody tr th {\n",
              "        vertical-align: top;\n",
              "    }\n",
              "\n",
              "    .dataframe thead th {\n",
              "        text-align: right;\n",
              "    }\n",
              "</style>\n",
              "<table border=\"1\" class=\"dataframe\">\n",
              "  <thead>\n",
              "    <tr style=\"text-align: right;\">\n",
              "      <th></th>\n",
              "      <th>home_score</th>\n",
              "      <th>away_score</th>\n",
              "      <th>neutral</th>\n",
              "      <th>year</th>\n",
              "      <th>month</th>\n",
              "      <th>home_rank</th>\n",
              "      <th>total_points</th>\n",
              "      <th>previous_points</th>\n",
              "      <th>rank_change</th>\n",
              "      <th>cur_year_avg</th>\n",
              "      <th>cur_year_avg_weighted</th>\n",
              "      <th>last_year_avg</th>\n",
              "      <th>last_year_avg_weighted</th>\n",
              "      <th>two_year_ago_avg</th>\n",
              "      <th>two_year_ago_weighted</th>\n",
              "      <th>three_year_ago_avg</th>\n",
              "      <th>three_year_ago_weighted</th>\n",
              "      <th>away_rank</th>\n",
              "      <th>goal_difference</th>\n",
              "      <th>match_outcome</th>\n",
              "      <th>tournament_type</th>\n",
              "    </tr>\n",
              "  </thead>\n",
              "  <tbody>\n",
              "    <tr>\n",
              "      <th>home_score</th>\n",
              "      <td>1.000000</td>\n",
              "      <td>-0.163449</td>\n",
              "      <td>-0.041618</td>\n",
              "      <td>-0.038735</td>\n",
              "      <td>0.018577</td>\n",
              "      <td>-0.135751</td>\n",
              "      <td>0.029473</td>\n",
              "      <td>0.086176</td>\n",
              "      <td>0.084176</td>\n",
              "      <td>0.027615</td>\n",
              "      <td>0.027615</td>\n",
              "      <td>0.024966</td>\n",
              "      <td>0.024966</td>\n",
              "      <td>0.031087</td>\n",
              "      <td>0.031087</td>\n",
              "      <td>0.033499</td>\n",
              "      <td>0.033498</td>\n",
              "      <td>0.318369</td>\n",
              "      <td>0.828721</td>\n",
              "      <td>0.519045</td>\n",
              "      <td>0.057697</td>\n",
              "    </tr>\n",
              "    <tr>\n",
              "      <th>away_score</th>\n",
              "      <td>-0.163449</td>\n",
              "      <td>1.000000</td>\n",
              "      <td>0.100754</td>\n",
              "      <td>-0.007922</td>\n",
              "      <td>0.018034</td>\n",
              "      <td>0.221458</td>\n",
              "      <td>-0.060140</td>\n",
              "      <td>-0.130546</td>\n",
              "      <td>-0.088782</td>\n",
              "      <td>-0.061239</td>\n",
              "      <td>-0.061239</td>\n",
              "      <td>-0.048945</td>\n",
              "      <td>-0.048945</td>\n",
              "      <td>-0.057669</td>\n",
              "      <td>-0.057670</td>\n",
              "      <td>-0.057475</td>\n",
              "      <td>-0.057474</td>\n",
              "      <td>-0.180101</td>\n",
              "      <td>-0.687589</td>\n",
              "      <td>-0.241272</td>\n",
              "      <td>0.023292</td>\n",
              "    </tr>\n",
              "    <tr>\n",
              "      <th>neutral</th>\n",
              "      <td>-0.041618</td>\n",
              "      <td>0.100754</td>\n",
              "      <td>1.000000</td>\n",
              "      <td>0.043224</td>\n",
              "      <td>-0.104829</td>\n",
              "      <td>0.037188</td>\n",
              "      <td>0.036269</td>\n",
              "      <td>-0.002373</td>\n",
              "      <td>0.018831</td>\n",
              "      <td>0.033139</td>\n",
              "      <td>0.033139</td>\n",
              "      <td>0.043398</td>\n",
              "      <td>0.043398</td>\n",
              "      <td>0.023244</td>\n",
              "      <td>0.023244</td>\n",
              "      <td>0.035310</td>\n",
              "      <td>0.035310</td>\n",
              "      <td>0.047499</td>\n",
              "      <td>-0.087788</td>\n",
              "      <td>-0.045104</td>\n",
              "      <td>0.035227</td>\n",
              "    </tr>\n",
              "    <tr>\n",
              "      <th>year</th>\n",
              "      <td>-0.038735</td>\n",
              "      <td>-0.007922</td>\n",
              "      <td>0.043224</td>\n",
              "      <td>1.000000</td>\n",
              "      <td>-0.001626</td>\n",
              "      <td>0.104435</td>\n",
              "      <td>0.620286</td>\n",
              "      <td>0.390617</td>\n",
              "      <td>-0.060667</td>\n",
              "      <td>0.597813</td>\n",
              "      <td>0.597813</td>\n",
              "      <td>0.584345</td>\n",
              "      <td>0.584346</td>\n",
              "      <td>0.581816</td>\n",
              "      <td>0.581817</td>\n",
              "      <td>0.579277</td>\n",
              "      <td>0.579278</td>\n",
              "      <td>0.105708</td>\n",
              "      <td>-0.024015</td>\n",
              "      <td>-0.018410</td>\n",
              "      <td>-0.033767</td>\n",
              "    </tr>\n",
              "    <tr>\n",
              "      <th>month</th>\n",
              "      <td>0.018577</td>\n",
              "      <td>0.018034</td>\n",
              "      <td>-0.104829</td>\n",
              "      <td>-0.001626</td>\n",
              "      <td>1.000000</td>\n",
              "      <td>0.028463</td>\n",
              "      <td>0.036846</td>\n",
              "      <td>-0.042312</td>\n",
              "      <td>0.035996</td>\n",
              "      <td>0.037558</td>\n",
              "      <td>0.037558</td>\n",
              "      <td>0.030348</td>\n",
              "      <td>0.030347</td>\n",
              "      <td>0.037827</td>\n",
              "      <td>0.037827</td>\n",
              "      <td>0.030474</td>\n",
              "      <td>0.030476</td>\n",
              "      <td>0.029525</td>\n",
              "      <td>0.003442</td>\n",
              "      <td>0.011726</td>\n",
              "      <td>0.131349</td>\n",
              "    </tr>\n",
              "    <tr>\n",
              "      <th>home_rank</th>\n",
              "      <td>-0.135751</td>\n",
              "      <td>0.221458</td>\n",
              "      <td>0.037188</td>\n",
              "      <td>0.104435</td>\n",
              "      <td>0.028463</td>\n",
              "      <td>1.000000</td>\n",
              "      <td>-0.289844</td>\n",
              "      <td>-0.663048</td>\n",
              "      <td>-0.000397</td>\n",
              "      <td>-0.286403</td>\n",
              "      <td>-0.286403</td>\n",
              "      <td>-0.270734</td>\n",
              "      <td>-0.270734</td>\n",
              "      <td>-0.262399</td>\n",
              "      <td>-0.262398</td>\n",
              "      <td>-0.255192</td>\n",
              "      <td>-0.255191</td>\n",
              "      <td>0.469454</td>\n",
              "      <td>-0.225543</td>\n",
              "      <td>-0.116157</td>\n",
              "      <td>0.134645</td>\n",
              "    </tr>\n",
              "    <tr>\n",
              "      <th>total_points</th>\n",
              "      <td>0.029473</td>\n",
              "      <td>-0.060140</td>\n",
              "      <td>0.036269</td>\n",
              "      <td>0.620286</td>\n",
              "      <td>0.036846</td>\n",
              "      <td>-0.289844</td>\n",
              "      <td>1.000000</td>\n",
              "      <td>0.525354</td>\n",
              "      <td>-0.043909</td>\n",
              "      <td>0.974909</td>\n",
              "      <td>0.974909</td>\n",
              "      <td>0.936991</td>\n",
              "      <td>0.936992</td>\n",
              "      <td>0.921001</td>\n",
              "      <td>0.921001</td>\n",
              "      <td>0.915973</td>\n",
              "      <td>0.915973</td>\n",
              "      <td>-0.121127</td>\n",
              "      <td>0.055809</td>\n",
              "      <td>0.030572</td>\n",
              "      <td>-0.065102</td>\n",
              "    </tr>\n",
              "    <tr>\n",
              "      <th>previous_points</th>\n",
              "      <td>0.086176</td>\n",
              "      <td>-0.130546</td>\n",
              "      <td>-0.002373</td>\n",
              "      <td>0.390617</td>\n",
              "      <td>-0.042312</td>\n",
              "      <td>-0.663048</td>\n",
              "      <td>0.525354</td>\n",
              "      <td>1.000000</td>\n",
              "      <td>-0.112908</td>\n",
              "      <td>0.512132</td>\n",
              "      <td>0.512132</td>\n",
              "      <td>0.497654</td>\n",
              "      <td>0.497653</td>\n",
              "      <td>0.479277</td>\n",
              "      <td>0.479277</td>\n",
              "      <td>0.474445</td>\n",
              "      <td>0.474445</td>\n",
              "      <td>-0.292109</td>\n",
              "      <td>0.137483</td>\n",
              "      <td>0.067821</td>\n",
              "      <td>-0.103915</td>\n",
              "    </tr>\n",
              "    <tr>\n",
              "      <th>rank_change</th>\n",
              "      <td>0.084176</td>\n",
              "      <td>-0.088782</td>\n",
              "      <td>0.018831</td>\n",
              "      <td>-0.060667</td>\n",
              "      <td>0.035996</td>\n",
              "      <td>-0.000397</td>\n",
              "      <td>-0.043909</td>\n",
              "      <td>-0.112908</td>\n",
              "      <td>1.000000</td>\n",
              "      <td>-0.014753</td>\n",
              "      <td>-0.014753</td>\n",
              "      <td>-0.075322</td>\n",
              "      <td>-0.075323</td>\n",
              "      <td>-0.061949</td>\n",
              "      <td>-0.061949</td>\n",
              "      <td>-0.062243</td>\n",
              "      <td>-0.062243</td>\n",
              "      <td>0.044661</td>\n",
              "      <td>0.112319</td>\n",
              "      <td>0.101541</td>\n",
              "      <td>0.083308</td>\n",
              "    </tr>\n",
              "    <tr>\n",
              "      <th>cur_year_avg</th>\n",
              "      <td>0.027615</td>\n",
              "      <td>-0.061239</td>\n",
              "      <td>0.033139</td>\n",
              "      <td>0.597813</td>\n",
              "      <td>0.037558</td>\n",
              "      <td>-0.286403</td>\n",
              "      <td>0.974909</td>\n",
              "      <td>0.512132</td>\n",
              "      <td>-0.014753</td>\n",
              "      <td>1.000000</td>\n",
              "      <td>1.000000</td>\n",
              "      <td>0.854383</td>\n",
              "      <td>0.854384</td>\n",
              "      <td>0.859211</td>\n",
              "      <td>0.859212</td>\n",
              "      <td>0.851877</td>\n",
              "      <td>0.851878</td>\n",
              "      <td>-0.118324</td>\n",
              "      <td>0.055065</td>\n",
              "      <td>0.032489</td>\n",
              "      <td>-0.056082</td>\n",
              "    </tr>\n",
              "    <tr>\n",
              "      <th>cur_year_avg_weighted</th>\n",
              "      <td>0.027615</td>\n",
              "      <td>-0.061239</td>\n",
              "      <td>0.033139</td>\n",
              "      <td>0.597813</td>\n",
              "      <td>0.037558</td>\n",
              "      <td>-0.286403</td>\n",
              "      <td>0.974909</td>\n",
              "      <td>0.512132</td>\n",
              "      <td>-0.014753</td>\n",
              "      <td>1.000000</td>\n",
              "      <td>1.000000</td>\n",
              "      <td>0.854383</td>\n",
              "      <td>0.854384</td>\n",
              "      <td>0.859211</td>\n",
              "      <td>0.859212</td>\n",
              "      <td>0.851877</td>\n",
              "      <td>0.851878</td>\n",
              "      <td>-0.118324</td>\n",
              "      <td>0.055065</td>\n",
              "      <td>0.032489</td>\n",
              "      <td>-0.056082</td>\n",
              "    </tr>\n",
              "    <tr>\n",
              "      <th>last_year_avg</th>\n",
              "      <td>0.024966</td>\n",
              "      <td>-0.048945</td>\n",
              "      <td>0.043398</td>\n",
              "      <td>0.584345</td>\n",
              "      <td>0.030348</td>\n",
              "      <td>-0.270734</td>\n",
              "      <td>0.936991</td>\n",
              "      <td>0.497654</td>\n",
              "      <td>-0.075322</td>\n",
              "      <td>0.854383</td>\n",
              "      <td>0.854383</td>\n",
              "      <td>1.000000</td>\n",
              "      <td>1.000000</td>\n",
              "      <td>0.846636</td>\n",
              "      <td>0.846636</td>\n",
              "      <td>0.868194</td>\n",
              "      <td>0.868195</td>\n",
              "      <td>-0.115047</td>\n",
              "      <td>0.046141</td>\n",
              "      <td>0.021261</td>\n",
              "      <td>-0.070835</td>\n",
              "    </tr>\n",
              "    <tr>\n",
              "      <th>last_year_avg_weighted</th>\n",
              "      <td>0.024966</td>\n",
              "      <td>-0.048945</td>\n",
              "      <td>0.043398</td>\n",
              "      <td>0.584346</td>\n",
              "      <td>0.030347</td>\n",
              "      <td>-0.270734</td>\n",
              "      <td>0.936992</td>\n",
              "      <td>0.497653</td>\n",
              "      <td>-0.075323</td>\n",
              "      <td>0.854384</td>\n",
              "      <td>0.854384</td>\n",
              "      <td>1.000000</td>\n",
              "      <td>1.000000</td>\n",
              "      <td>0.846637</td>\n",
              "      <td>0.846637</td>\n",
              "      <td>0.868194</td>\n",
              "      <td>0.868195</td>\n",
              "      <td>-0.115046</td>\n",
              "      <td>0.046141</td>\n",
              "      <td>0.021261</td>\n",
              "      <td>-0.070835</td>\n",
              "    </tr>\n",
              "    <tr>\n",
              "      <th>two_year_ago_avg</th>\n",
              "      <td>0.031087</td>\n",
              "      <td>-0.057669</td>\n",
              "      <td>0.023244</td>\n",
              "      <td>0.581816</td>\n",
              "      <td>0.037827</td>\n",
              "      <td>-0.262399</td>\n",
              "      <td>0.921001</td>\n",
              "      <td>0.479277</td>\n",
              "      <td>-0.061949</td>\n",
              "      <td>0.859211</td>\n",
              "      <td>0.859211</td>\n",
              "      <td>0.846636</td>\n",
              "      <td>0.846637</td>\n",
              "      <td>1.000000</td>\n",
              "      <td>1.000000</td>\n",
              "      <td>0.856263</td>\n",
              "      <td>0.856264</td>\n",
              "      <td>-0.109508</td>\n",
              "      <td>0.055596</td>\n",
              "      <td>0.030134</td>\n",
              "      <td>-0.061049</td>\n",
              "    </tr>\n",
              "    <tr>\n",
              "      <th>two_year_ago_weighted</th>\n",
              "      <td>0.031087</td>\n",
              "      <td>-0.057670</td>\n",
              "      <td>0.023244</td>\n",
              "      <td>0.581817</td>\n",
              "      <td>0.037827</td>\n",
              "      <td>-0.262398</td>\n",
              "      <td>0.921001</td>\n",
              "      <td>0.479277</td>\n",
              "      <td>-0.061949</td>\n",
              "      <td>0.859212</td>\n",
              "      <td>0.859212</td>\n",
              "      <td>0.846636</td>\n",
              "      <td>0.846637</td>\n",
              "      <td>1.000000</td>\n",
              "      <td>1.000000</td>\n",
              "      <td>0.856264</td>\n",
              "      <td>0.856265</td>\n",
              "      <td>-0.109508</td>\n",
              "      <td>0.055596</td>\n",
              "      <td>0.030134</td>\n",
              "      <td>-0.061050</td>\n",
              "    </tr>\n",
              "    <tr>\n",
              "      <th>three_year_ago_avg</th>\n",
              "      <td>0.033499</td>\n",
              "      <td>-0.057475</td>\n",
              "      <td>0.035310</td>\n",
              "      <td>0.579277</td>\n",
              "      <td>0.030474</td>\n",
              "      <td>-0.255192</td>\n",
              "      <td>0.915973</td>\n",
              "      <td>0.474445</td>\n",
              "      <td>-0.062243</td>\n",
              "      <td>0.851877</td>\n",
              "      <td>0.851877</td>\n",
              "      <td>0.868194</td>\n",
              "      <td>0.868194</td>\n",
              "      <td>0.856263</td>\n",
              "      <td>0.856264</td>\n",
              "      <td>1.000000</td>\n",
              "      <td>1.000000</td>\n",
              "      <td>-0.108850</td>\n",
              "      <td>0.057260</td>\n",
              "      <td>0.030395</td>\n",
              "      <td>-0.069975</td>\n",
              "    </tr>\n",
              "    <tr>\n",
              "      <th>three_year_ago_weighted</th>\n",
              "      <td>0.033498</td>\n",
              "      <td>-0.057474</td>\n",
              "      <td>0.035310</td>\n",
              "      <td>0.579278</td>\n",
              "      <td>0.030476</td>\n",
              "      <td>-0.255191</td>\n",
              "      <td>0.915973</td>\n",
              "      <td>0.474445</td>\n",
              "      <td>-0.062243</td>\n",
              "      <td>0.851878</td>\n",
              "      <td>0.851878</td>\n",
              "      <td>0.868195</td>\n",
              "      <td>0.868195</td>\n",
              "      <td>0.856264</td>\n",
              "      <td>0.856265</td>\n",
              "      <td>1.000000</td>\n",
              "      <td>1.000000</td>\n",
              "      <td>-0.108849</td>\n",
              "      <td>0.057259</td>\n",
              "      <td>0.030394</td>\n",
              "      <td>-0.069975</td>\n",
              "    </tr>\n",
              "    <tr>\n",
              "      <th>away_rank</th>\n",
              "      <td>0.318369</td>\n",
              "      <td>-0.180101</td>\n",
              "      <td>0.047499</td>\n",
              "      <td>0.105708</td>\n",
              "      <td>0.029525</td>\n",
              "      <td>0.469454</td>\n",
              "      <td>-0.121127</td>\n",
              "      <td>-0.292109</td>\n",
              "      <td>0.044661</td>\n",
              "      <td>-0.118324</td>\n",
              "      <td>-0.118324</td>\n",
              "      <td>-0.115047</td>\n",
              "      <td>-0.115046</td>\n",
              "      <td>-0.109508</td>\n",
              "      <td>-0.109508</td>\n",
              "      <td>-0.108850</td>\n",
              "      <td>-0.108849</td>\n",
              "      <td>1.000000</td>\n",
              "      <td>0.336489</td>\n",
              "      <td>0.213202</td>\n",
              "      <td>0.134349</td>\n",
              "    </tr>\n",
              "    <tr>\n",
              "      <th>goal_difference</th>\n",
              "      <td>0.828721</td>\n",
              "      <td>-0.687589</td>\n",
              "      <td>-0.087788</td>\n",
              "      <td>-0.024015</td>\n",
              "      <td>0.003442</td>\n",
              "      <td>-0.225543</td>\n",
              "      <td>0.055809</td>\n",
              "      <td>0.137483</td>\n",
              "      <td>0.112319</td>\n",
              "      <td>0.055065</td>\n",
              "      <td>0.055065</td>\n",
              "      <td>0.046141</td>\n",
              "      <td>0.046141</td>\n",
              "      <td>0.055596</td>\n",
              "      <td>0.055596</td>\n",
              "      <td>0.057260</td>\n",
              "      <td>0.057259</td>\n",
              "      <td>0.336489</td>\n",
              "      <td>1.000000</td>\n",
              "      <td>0.518887</td>\n",
              "      <td>0.029251</td>\n",
              "    </tr>\n",
              "    <tr>\n",
              "      <th>match_outcome</th>\n",
              "      <td>0.519045</td>\n",
              "      <td>-0.241272</td>\n",
              "      <td>-0.045104</td>\n",
              "      <td>-0.018410</td>\n",
              "      <td>0.011726</td>\n",
              "      <td>-0.116157</td>\n",
              "      <td>0.030572</td>\n",
              "      <td>0.067821</td>\n",
              "      <td>0.101541</td>\n",
              "      <td>0.032489</td>\n",
              "      <td>0.032489</td>\n",
              "      <td>0.021261</td>\n",
              "      <td>0.021261</td>\n",
              "      <td>0.030134</td>\n",
              "      <td>0.030134</td>\n",
              "      <td>0.030395</td>\n",
              "      <td>0.030394</td>\n",
              "      <td>0.213202</td>\n",
              "      <td>0.518887</td>\n",
              "      <td>1.000000</td>\n",
              "      <td>0.046087</td>\n",
              "    </tr>\n",
              "    <tr>\n",
              "      <th>tournament_type</th>\n",
              "      <td>0.057697</td>\n",
              "      <td>0.023292</td>\n",
              "      <td>0.035227</td>\n",
              "      <td>-0.033767</td>\n",
              "      <td>0.131349</td>\n",
              "      <td>0.134645</td>\n",
              "      <td>-0.065102</td>\n",
              "      <td>-0.103915</td>\n",
              "      <td>0.083308</td>\n",
              "      <td>-0.056082</td>\n",
              "      <td>-0.056082</td>\n",
              "      <td>-0.070835</td>\n",
              "      <td>-0.070835</td>\n",
              "      <td>-0.061049</td>\n",
              "      <td>-0.061050</td>\n",
              "      <td>-0.069975</td>\n",
              "      <td>-0.069975</td>\n",
              "      <td>0.134349</td>\n",
              "      <td>0.029251</td>\n",
              "      <td>0.046087</td>\n",
              "      <td>1.000000</td>\n",
              "    </tr>\n",
              "  </tbody>\n",
              "</table>\n",
              "</div>"
            ],
            "text/plain": [
              "                         home_score  away_score  ...  match_outcome  tournament_type\n",
              "home_score                 1.000000   -0.163449  ...       0.519045         0.057697\n",
              "away_score                -0.163449    1.000000  ...      -0.241272         0.023292\n",
              "neutral                   -0.041618    0.100754  ...      -0.045104         0.035227\n",
              "year                      -0.038735   -0.007922  ...      -0.018410        -0.033767\n",
              "month                      0.018577    0.018034  ...       0.011726         0.131349\n",
              "home_rank                 -0.135751    0.221458  ...      -0.116157         0.134645\n",
              "total_points               0.029473   -0.060140  ...       0.030572        -0.065102\n",
              "previous_points            0.086176   -0.130546  ...       0.067821        -0.103915\n",
              "rank_change                0.084176   -0.088782  ...       0.101541         0.083308\n",
              "cur_year_avg               0.027615   -0.061239  ...       0.032489        -0.056082\n",
              "cur_year_avg_weighted      0.027615   -0.061239  ...       0.032489        -0.056082\n",
              "last_year_avg              0.024966   -0.048945  ...       0.021261        -0.070835\n",
              "last_year_avg_weighted     0.024966   -0.048945  ...       0.021261        -0.070835\n",
              "two_year_ago_avg           0.031087   -0.057669  ...       0.030134        -0.061049\n",
              "two_year_ago_weighted      0.031087   -0.057670  ...       0.030134        -0.061050\n",
              "three_year_ago_avg         0.033499   -0.057475  ...       0.030395        -0.069975\n",
              "three_year_ago_weighted    0.033498   -0.057474  ...       0.030394        -0.069975\n",
              "away_rank                  0.318369   -0.180101  ...       0.213202         0.134349\n",
              "goal_difference            0.828721   -0.687589  ...       0.518887         0.029251\n",
              "match_outcome              0.519045   -0.241272  ...       1.000000         0.046087\n",
              "tournament_type            0.057697    0.023292  ...       0.046087         1.000000\n",
              "\n",
              "[21 rows x 21 columns]"
            ]
          },
          "metadata": {
            "tags": []
          },
          "execution_count": 106
        }
      ]
    },
    {
      "cell_type": "code",
      "metadata": {
        "id": "Izb218X-nec1",
        "colab_type": "code",
        "colab": {}
      },
      "source": [
        "# Using VIF to check for multicollinearity\n",
        "\n",
        "#vif_df = pd.DataFrame(np.linalg.inv(fifa_corr.values), index = fifa_corr.index, columns = fifa_corr.columns)\n"
      ],
      "execution_count": 0,
      "outputs": []
    },
    {
      "cell_type": "code",
      "metadata": {
        "id": "wLk770L4puWd",
        "colab_type": "code",
        "colab": {}
      },
      "source": [
        "#sns.set_style('dark')\n",
        "#plt.subplots(figsize =  (15,8))\n",
        "#sns.heatmap(vif_df, annot = True)\n",
        "#plt.title('VIF Heatmap', color = 'black', fontsize = 20)\n",
        "\n",
        "#plt.show()"
      ],
      "execution_count": 0,
      "outputs": []
    },
    {
      "cell_type": "markdown",
      "metadata": {
        "id": "6haqGBbA9Rqx",
        "colab_type": "text"
      },
      "source": [
        "## Implementing the Solution\n",
        "\n",
        "## First Approach:\n",
        "\n",
        " Model 1 : Predicting the home team score\n",
        "\n",
        " Model 2 : Predicting the away team score"
      ]
    },
    {
      "cell_type": "markdown",
      "metadata": {
        "id": "7C80DnjLBgjQ",
        "colab_type": "text"
      },
      "source": [
        "### Model 1 : Predicting the Home Score"
      ]
    },
    {
      "cell_type": "markdown",
      "metadata": {
        "id": "O2Qttux6mN2j",
        "colab_type": "text"
      },
      "source": [
        "#### Slitting train and test sets"
      ]
    },
    {
      "cell_type": "code",
      "metadata": {
        "id": "lQ1p9pGMjZ9-",
        "colab_type": "code",
        "colab": {}
      },
      "source": [
        "mycols = [col for col in fifa_df.columns if col not in ['home_score', 'away_score', 'date','rank_date','tournament', 'city', 'country', \n",
        "                                                        'country_full', 'country_abrv', 'home_team',\n",
        "                                                        'away_team']]\n",
        "\n",
        "x = fifa_df[mycols]\n",
        "\n",
        "y = fifa_df['home_score']\n",
        "\n",
        "x_train, x_test, y_train, y_test = train_test_split(x, y, random_state = 13, test_size = 0.3)"
      ],
      "execution_count": 0,
      "outputs": []
    },
    {
      "cell_type": "markdown",
      "metadata": {
        "id": "4O5jM6LMsv3b",
        "colab_type": "text"
      },
      "source": [
        "#### Normalization"
      ]
    },
    {
      "cell_type": "code",
      "metadata": {
        "id": "bIjStMt3moe7",
        "colab_type": "code",
        "colab": {}
      },
      "source": [
        "# Normalizing our data before running it through the model\n",
        "#\n",
        "\n",
        "sc = StandardScaler()\n",
        "\n",
        "x_train = sc.fit_transform(x_train)\n",
        "\n",
        "x_test = sc.transform(x_test)\n",
        "  "
      ],
      "execution_count": 0,
      "outputs": []
    },
    {
      "cell_type": "markdown",
      "metadata": {
        "id": "eEDHci6ssz4r",
        "colab_type": "text"
      },
      "source": [
        "#### Feature Reduction using PCA"
      ]
    },
    {
      "cell_type": "code",
      "metadata": {
        "id": "kCOJgfzectVs",
        "colab_type": "code",
        "colab": {}
      },
      "source": [
        "# Applying PCA\n",
        "  \n",
        "pca = PCA()\n",
        "  \n",
        "x_train = pca.fit_transform(x_train)\n",
        "  \n",
        "x_test = pca.transform(x_test)\n"
      ],
      "execution_count": 0,
      "outputs": []
    },
    {
      "cell_type": "code",
      "metadata": {
        "id": "yJrWZLytuWk8",
        "colab_type": "code",
        "colab": {}
      },
      "source": [
        "# We now apply the number of components we desire to the PCA() function for reduction\n",
        "\n",
        "pca = PCA(n_components = 19)\n",
        "x_train = pca.fit_transform(x_train)\n",
        "x_test = pca.transform(x_test)"
      ],
      "execution_count": 0,
      "outputs": []
    },
    {
      "cell_type": "markdown",
      "metadata": {
        "id": "uDHlK-jX4Tjk",
        "colab_type": "text"
      },
      "source": [
        "#### Fitting the model"
      ]
    },
    {
      "cell_type": "code",
      "metadata": {
        "id": "eHH4Gbet0iR1",
        "colab_type": "code",
        "colab": {
          "base_uri": "https://localhost:8080/",
          "height": 34
        },
        "outputId": "a5bca1e9-a5be-4387-a1ae-8867690ab082"
      },
      "source": [
        "# Fitting the polynomial linear regression\n",
        "\n",
        "poly_features = PolynomialFeatures(include_bias = False, degree = 1)\n",
        "\n",
        "x_train = poly_features.fit_transform(x_train)\n",
        "x_test = poly_features.fit_transform(x_test)\n",
        "\n",
        "# Training the model\n",
        "\n",
        "linreg = LinearRegression()\n",
        "linreg.fit(x_train, y_train)\n"
      ],
      "execution_count": 112,
      "outputs": [
        {
          "output_type": "execute_result",
          "data": {
            "text/plain": [
              "LinearRegression(copy_X=True, fit_intercept=True, n_jobs=None, normalize=False)"
            ]
          },
          "metadata": {
            "tags": []
          },
          "execution_count": 112
        }
      ]
    },
    {
      "cell_type": "markdown",
      "metadata": {
        "id": "HVn2elo99I7m",
        "colab_type": "text"
      },
      "source": [
        "#### Interpretting coefficients\n",
        "> The coefficient of the variables allow us to model our equation with these particular values for our betas. We are able to extract the intercepts and coefficients using the linear regression variable. "
      ]
    },
    {
      "cell_type": "code",
      "metadata": {
        "id": "CT_79JO49ISE",
        "colab_type": "code",
        "colab": {
          "base_uri": "https://localhost:8080/",
          "height": 140
        },
        "outputId": "d09b7a4c-346a-48b5-87d6-60f9b40f9268"
      },
      "source": [
        "# Prints y-intercept\n",
        "print(linreg.intercept_)\n",
        "\n",
        "# Prints the beta coefficients in order\n",
        "print(linreg.coef_)\n",
        "\n",
        "feature_columns =['neutral', 'year', 'month', 'home_rank',\n",
        "       'total_points', 'previous_points', 'rank_change', 'cur_year_avg',\n",
        "       'cur_year_avg_weighted', 'last_year_avg', 'last_year_avg_weighted',\n",
        "       'two_year_ago_avg', 'two_year_ago_weighted', 'three_year_ago_avg',\n",
        "       'three_year_ago_weighted', 'away_rank', 'goal_difference',\n",
        "       'match_outcome', 'tournament_type']\n",
        "# Zip can pair feature names as coefficients together\n",
        "zip(feature_columns, linreg.coef_)"
      ],
      "execution_count": 113,
      "outputs": [
        {
          "output_type": "stream",
          "text": [
            "1.614604462474645\n",
            "[ 1.58274434e-02  7.26940867e-01  5.89235085e-01 -1.50662389e-01\n",
            " -9.45711721e-02 -1.28895048e-01  8.86367418e-02 -6.82285014e-02\n",
            "  3.78223062e-01  6.88562526e-01  4.92454251e-02 -2.10740350e-01\n",
            "  3.64935561e-02  3.52359686e-01 -3.55887127e+02  4.25593927e+02\n",
            "  7.60351213e+02  9.01655022e+02 -3.48265394e-24]\n"
          ],
          "name": "stdout"
        },
        {
          "output_type": "execute_result",
          "data": {
            "text/plain": [
              "<zip at 0x7f9b1afa3b08>"
            ]
          },
          "metadata": {
            "tags": []
          },
          "execution_count": 113
        }
      ]
    },
    {
      "cell_type": "markdown",
      "metadata": {
        "id": "EVN8iOiD6BbH",
        "colab_type": "text"
      },
      "source": [
        "#### Predictions"
      ]
    },
    {
      "cell_type": "code",
      "metadata": {
        "id": "PYfWwdq16A-Z",
        "colab_type": "code",
        "colab": {}
      },
      "source": [
        "# Making predictions\n",
        "#\n",
        "y_pred = linreg.predict(x_test)"
      ],
      "execution_count": 0,
      "outputs": []
    },
    {
      "cell_type": "markdown",
      "metadata": {
        "id": "PA0-_24T6bOg",
        "colab_type": "text"
      },
      "source": [
        "#### Evaluation of our model\n"
      ]
    },
    {
      "cell_type": "code",
      "metadata": {
        "id": "J2LPVv6F6Z7S",
        "colab_type": "code",
        "colab": {
          "base_uri": "https://localhost:8080/",
          "height": 34
        },
        "outputId": "0bd535b1-198b-4399-d2b6-92ee71a17b2e"
      },
      "source": [
        "# We will use the rmse score to evaluate \n",
        "\n",
        "print('The rmse score is : ', np.sqrt(mean_squared_error(y_test, y_pred)))"
      ],
      "execution_count": 115,
      "outputs": [
        {
          "output_type": "stream",
          "text": [
            "The rmse score is :  0.8890801130929445\n"
          ],
          "name": "stdout"
        }
      ]
    },
    {
      "cell_type": "markdown",
      "metadata": {
        "id": "DhGqtd7gOfSE",
        "colab_type": "text"
      },
      "source": [
        "#### Checking for Heteroscedasticity"
      ]
    },
    {
      "cell_type": "code",
      "metadata": {
        "id": "jDXlO2UpOe0U",
        "colab_type": "code",
        "colab": {
          "base_uri": "https://localhost:8080/",
          "height": 295
        },
        "outputId": "b1934cad-6ee0-4766-dbd3-99045186f76b"
      },
      "source": [
        "residuals = y_pred - y_test\n",
        "\n",
        "# Plotting the prediction errors\n",
        "\n",
        "plt.scatter(y_pred, residuals, color='black')\n",
        "plt.title('Residual Plot')\n",
        "plt.ylabel('residual')\n",
        "plt.xlabel('fitted values')\n",
        "plt.axhline(y= residuals.mean(), color='green')\n",
        "plt.show()"
      ],
      "execution_count": 130,
      "outputs": [
        {
          "output_type": "display_data",
          "data": {
            "image/png": "[encoded data removed]",
            "text/plain": [
              "<Figure size 432x288 with 1 Axes>"
            ]
          },
          "metadata": {
            "tags": []
          }
        }
      ]
    },
    {
      "cell_type": "markdown",
      "metadata": {
        "id": "rW-x0TbVQEyh",
        "colab_type": "text"
      },
      "source": [
        "### Model 2 : Predicting the Away Score"
      ]
    },
    {
      "cell_type": "code",
      "metadata": {
        "id": "xo5iFwKjQEOT",
        "colab_type": "code",
        "colab": {}
      },
      "source": [
        "# Splitting the dataset into train and test sets\n",
        "#\n",
        "\n",
        "mycols = [col for col in fifa_df.columns if col not in ['home_score', 'away_score', 'date','rank_date','tournament', 'city', 'country', \n",
        "                                                        'country_full', 'country_abrv', 'home_team',\n",
        "                                                        'away_team']]\n",
        "\n",
        "X = fifa_df[mycols]\n",
        "Y = fifa_df['away_score']\n",
        "X_train, X_test, Y_train, Y_test = train_test_split(X, Y, random_state = 13, test_size = 0.3)\n",
        "\n",
        "# Normalizing the data\n",
        "\n",
        "sc = StandardScaler()\n",
        "X_train = sc.fit_transform(X_train)\n",
        "X_test = sc.transform(X_test)\n",
        "\n",
        "# Feature reduction using PCA  \n",
        "pca = PCA()\n",
        "X_train = pca.fit_transform(X_train)\n",
        "X_test = pca.transform(X_test)\n",
        "\n",
        "# We now apply the number of components we desire to the PCA() function for reduction\n",
        "\n",
        "pca = PCA(n_components = 14)\n",
        "X_train = pca.fit_transform(X_train)\n",
        "X_test = pca.transform(X_test)\n",
        "\n",
        "# Fitting the polynomial linear regression\n",
        "\n",
        "poly_features = PolynomialFeatures(degree = 2)\n",
        "\n",
        "X_train = poly_features.fit_transform(X_train)\n",
        "X_test = poly_features.fit_transform(X_test)\n",
        "\n",
        "# Training the model\n",
        "\n",
        "regressor = LinearRegression(normalize = True )\n",
        "regressor.fit(X_train, Y_train)\n",
        "\n",
        "# Making predictions\n",
        "#\n",
        "Y_pred = regressor.predict(X_test)\n",
        "\n",
        "  "
      ],
      "execution_count": 0,
      "outputs": []
    },
    {
      "cell_type": "markdown",
      "metadata": {
        "id": "Uer5G2GWSq7s",
        "colab_type": "text"
      },
      "source": [
        "#### Interpretting Coefficients"
      ]
    },
    {
      "cell_type": "code",
      "metadata": {
        "id": "uKul2A67SqgF",
        "colab_type": "code",
        "colab": {
          "base_uri": "https://localhost:8080/",
          "height": 579
        },
        "outputId": "97944148-ba7f-4c9b-f1f1-c798fd00a396"
      },
      "source": [
        "# Prints y-intercept\n",
        "print(regressor.intercept_)\n",
        "\n",
        "# Prints the beta coefficients in order\n",
        "print(regressor.coef_)\n",
        "\n",
        "feature_columns =['neutral', 'year', 'month', 'home_rank',\n",
        "       'total_points', 'previous_points', 'rank_change', 'cur_year_avg',\n",
        "       'cur_year_avg_weighted', 'last_year_avg', 'last_year_avg_weighted',\n",
        "       'two_year_ago_avg', 'two_year_ago_weighted', 'three_year_ago_avg',\n",
        "       'three_year_ago_weighted', 'away_rank', 'goal_difference',\n",
        "       'match_outcome', 'tournament_type']\n",
        "# Zip can pair feature names as coefficients together\n",
        "zip(feature_columns, regressor.coef_)"
      ],
      "execution_count": 157,
      "outputs": [
        {
          "output_type": "stream",
          "text": [
            "-205360282.99776837\n",
            "[-6.22586869e+01 -3.92070529e+06  2.14687499e+06  3.59770466e+07\n",
            "  9.54955106e+07 -1.76824376e+08  9.11222654e+07 -1.19423305e+08\n",
            "  7.20642300e+06  4.68815688e+06 -1.94636743e+07 -9.29392653e+06\n",
            "  3.82244395e+06  7.39705842e+05 -1.83098059e+06  4.86982232e+04\n",
            " -5.33317355e+04 -8.93726067e+05 -2.37225775e+06  4.39259387e+06\n",
            " -2.26361950e+06  2.96666155e+06 -1.79018819e+05 -1.16461177e+05\n",
            "  4.83508081e+05  2.30875664e+05 -9.49554520e+04 -1.83754475e+04\n",
            "  4.54844350e+04  1.46018550e+04  4.89381559e+05  1.29898611e+06\n",
            " -2.40526952e+06  1.23949873e+06 -1.62446616e+06  9.80258556e+04\n",
            "  6.37708298e+04 -2.64756116e+05 -1.26421423e+05  5.19950848e+04\n",
            "  1.00619272e+04 -2.49060058e+04  4.10049024e+06  2.17682336e+07\n",
            " -4.03071760e+07  2.07713510e+07 -2.72225824e+07  1.64270643e+06\n",
            "  1.06866688e+06 -4.43675066e+06 -2.11855365e+06  8.71327239e+05\n",
            "  1.68616221e+05 -4.17372520e+05  2.88902058e+07 -1.06989168e+08\n",
            "  5.51343406e+07 -7.22581372e+07  4.36031069e+06  2.83661173e+06\n",
            " -1.17766694e+07 -5.62337315e+06  2.31280382e+06  4.47565641e+05\n",
            " -1.10785108e+06  9.90533105e+07 -1.02089568e+08  1.33796866e+08\n",
            " -8.07377439e+06 -5.25241535e+06  2.18062839e+07  1.04125256e+07\n",
            " -4.28250595e+06 -8.28735490e+05  2.05135375e+06  2.63047236e+07\n",
            " -6.89490544e+07  4.16062894e+06  2.70670823e+06 -1.12373534e+07\n",
            " -5.36584911e+06  2.20688834e+06  4.27069246e+05 -1.05711673e+06\n",
            "  4.51817341e+07 -5.45285014e+06 -3.54736616e+06  1.47274858e+07\n",
            "  7.03239140e+06 -2.89231056e+06 -5.59709753e+05  1.38543935e+06\n",
            "  1.64522094e+05  2.14060468e+05 -8.88708592e+05 -4.24359368e+05\n",
            "  1.74532172e+05  3.37748419e+04 -8.36023116e+04  6.96284775e+04\n",
            " -5.78152260e+05 -2.76068073e+05  1.13542560e+05  2.19722864e+04\n",
            " -5.43878147e+04  1.20014656e+06  1.14614286e+06 -4.71390181e+05\n",
            " -9.12218174e+04  2.25799493e+05  2.73642270e+05 -2.25089402e+05\n",
            " -4.35585200e+04  1.07819511e+05  4.62877691e+04  1.79149453e+04\n",
            " -4.43446192e+04  1.73341097e+03 -8.58140002e+03  1.06206308e+04]\n"
          ],
          "name": "stdout"
        },
        {
          "output_type": "execute_result",
          "data": {
            "text/plain": [
              "<zip at 0x7f9b17358308>"
            ]
          },
          "metadata": {
            "tags": []
          },
          "execution_count": 157
        }
      ]
    },
    {
      "cell_type": "markdown",
      "metadata": {
        "id": "42F7KiH-TmKy",
        "colab_type": "text"
      },
      "source": [
        "#### Evaluating the results"
      ]
    },
    {
      "cell_type": "code",
      "metadata": {
        "id": "T_uKIlYiTlgN",
        "colab_type": "code",
        "colab": {
          "base_uri": "https://localhost:8080/",
          "height": 34
        },
        "outputId": "aa95f728-5708-4908-fc74-f7a2e81f8e9e"
      },
      "source": [
        "# We will use the rmse score to evaluate \n",
        "\n",
        "print('The rmse score is : ', np.sqrt(mean_squared_error(Y_test, Y_pred)))"
      ],
      "execution_count": 158,
      "outputs": [
        {
          "output_type": "stream",
          "text": [
            "The rmse score is :  0.6900236332326315\n"
          ],
          "name": "stdout"
        }
      ]
    },
    {
      "cell_type": "markdown",
      "metadata": {
        "id": "hwqjnTvWUIsi",
        "colab_type": "text"
      },
      "source": [
        "#### Checking for Heteroscedasticity"
      ]
    },
    {
      "cell_type": "code",
      "metadata": {
        "id": "Kn1qHXNNUSCe",
        "colab_type": "code",
        "colab": {
          "base_uri": "https://localhost:8080/",
          "height": 295
        },
        "outputId": "cbc24e08-d74b-4403-ea20-1bfe1f1aac79"
      },
      "source": [
        "residuals = Y_pred - Y_test\n",
        "\n",
        "# Plotting the prediction errors\n",
        "\n",
        "plt.scatter(Y_pred, residuals, color='black')\n",
        "plt.title('Residual Plot')\n",
        "plt.ylabel('residual')\n",
        "plt.xlabel('fitted values')\n",
        "plt.axhline(y= residuals.mean(), color='green')\n",
        "plt.show()"
      ],
      "execution_count": 129,
      "outputs": [
        {
          "output_type": "display_data",
          "data": {
            "image/png": "[encoded data removed]",
            "text/plain": [
              "<Figure size 432x288 with 1 Axes>"
            ]
          },
          "metadata": {
            "tags": []
          }
        }
      ]
    },
    {
      "cell_type": "markdown",
      "metadata": {
        "id": "wz1Xk2ByU09R",
        "colab_type": "text"
      },
      "source": [
        "### Approach 2 \n",
        "\n",
        "Predicting whether a match played between two teams ends in a win, loss or a draw"
      ]
    },
    {
      "cell_type": "markdown",
      "metadata": {
        "id": "4IpIDj7hXvSd",
        "colab_type": "text"
      },
      "source": [
        "#### Splitting the data into test and training sets"
      ]
    },
    {
      "cell_type": "code",
      "metadata": {
        "id": "GTxCKhNDYcKC",
        "colab_type": "code",
        "colab": {
          "base_uri": "https://localhost:8080/",
          "height": 140
        },
        "outputId": "6e0d48fa-04c7-4024-fdbd-187bca5ec900"
      },
      "source": [
        "fifa_df.columns"
      ],
      "execution_count": 138,
      "outputs": [
        {
          "output_type": "execute_result",
          "data": {
            "text/plain": [
              "Index(['home_score', 'away_score', 'neutral', 'year', 'month', 'home_rank',\n",
              "       'total_points', 'previous_points', 'rank_change', 'cur_year_avg',\n",
              "       'cur_year_avg_weighted', 'last_year_avg', 'last_year_avg_weighted',\n",
              "       'two_year_ago_avg', 'two_year_ago_weighted', 'three_year_ago_avg',\n",
              "       'three_year_ago_weighted', 'away_rank', 'goal_difference',\n",
              "       'match_outcome', 'tournament_type'],\n",
              "      dtype='object')"
            ]
          },
          "metadata": {
            "tags": []
          },
          "execution_count": 138
        }
      ]
    },
    {
      "cell_type": "code",
      "metadata": {
        "id": "R4DPTUOSU0Gj",
        "colab_type": "code",
        "colab": {}
      },
      "source": [
        "# Creating the train and test sets of our dataset\n",
        "\n",
        "S = fifa_df.drop(['match_outcome', 'home_score', 'away_score','goal_difference'], axis = 1)\n",
        "t = fifa_df.match_outcome\n",
        "\n",
        "S_train, S_test, t_train, t_test = train_test_split(S, t, random_state = 3, test_size = 0.3)\n",
        "\n"
      ],
      "execution_count": 0,
      "outputs": []
    },
    {
      "cell_type": "markdown",
      "metadata": {
        "id": "ir6f88vlZYmM",
        "colab_type": "text"
      },
      "source": [
        "#### Modeling the Logistic Regression"
      ]
    },
    {
      "cell_type": "code",
      "metadata": {
        "id": "xOMslbyPZdPU",
        "colab_type": "code",
        "colab": {
          "base_uri": "https://localhost:8080/",
          "height": 177
        },
        "outputId": "89a471d7-111c-4e7d-fae8-6caa606a13bb"
      },
      "source": [
        "#  Applying and training the model\n",
        "\n",
        "logreg = LogisticRegression()\n",
        "logreg.fit(S_train, t_train)\n",
        "\n",
        "# Predicting the results\n",
        "\n",
        "t_pred = logreg.predict(S_test)\n",
        "\n",
        "# Evaluating the performance of the model\n",
        "#\n",
        "print('The accuracy of the model is',  accuracy_score(t_test, t_pred))\n",
        "confusion_matrix(t_test, t_pred)\n"
      ],
      "execution_count": 151,
      "outputs": [
        {
          "output_type": "stream",
          "text": [
            "/usr/local/lib/python3.6/dist-packages/sklearn/linear_model/logistic.py:432: FutureWarning: Default solver will be changed to 'lbfgs' in 0.22. Specify a solver to silence this warning.\n",
            "  FutureWarning)\n",
            "/usr/local/lib/python3.6/dist-packages/sklearn/linear_model/logistic.py:469: FutureWarning: Default multi_class will be changed to 'auto' in 0.22. Specify the multi_class option to silence this warning.\n",
            "  \"this warning.\", FutureWarning)\n"
          ],
          "name": "stderr"
        },
        {
          "output_type": "stream",
          "text": [
            "The accuracy of the model is 0.5863564668769716\n"
          ],
          "name": "stdout"
        },
        {
          "output_type": "execute_result",
          "data": {
            "text/plain": [
              "array([[   0,  388,  803],\n",
              "       [   0,  854,  590],\n",
              "       [   0,  317, 2120]])"
            ]
          },
          "metadata": {
            "tags": []
          },
          "execution_count": 151
        }
      ]
    },
    {
      "cell_type": "markdown",
      "metadata": {
        "id": "0aKeuCPxdEDI",
        "colab_type": "text"
      },
      "source": [
        "#### Testing for Heteroscedasticity"
      ]
    },
    {
      "cell_type": "code",
      "metadata": {
        "id": "hqen2pnpdDj8",
        "colab_type": "code",
        "colab": {
          "base_uri": "https://localhost:8080/",
          "height": 295
        },
        "outputId": "7c5bd24f-0934-47f3-ae32-b10ef9497477"
      },
      "source": [
        "residuals = t_pred - t_test\n",
        "\n",
        "# Plotting the prediction errors\n",
        "\n",
        "plt.scatter(t_pred, residuals, color='black')\n",
        "plt.title('Residual Plot')\n",
        "plt.ylabel('residual')\n",
        "plt.xlabel('fitted values')\n",
        "plt.axhline(y= residuals.mean(), color='green')\n",
        "plt.show()"
      ],
      "execution_count": 152,
      "outputs": [
        {
          "output_type": "display_data",
          "data": {
            "image/png": "[encoded data removed]",
            "text/plain": [
              "<Figure size 432x288 with 1 Axes>"
            ]
          },
          "metadata": {
            "tags": []
          }
        }
      ]
    },
    {
      "cell_type": "markdown",
      "metadata": {
        "id": "jhYREVJL9XEF",
        "colab_type": "text"
      },
      "source": [
        "## Challenging the solution\n",
        "\n",
        "> - Fit other models to see if I can get better predictions\n",
        "> - Learn the art of hyperparameter tuning and apply to my models\n",
        "> - Gauge the features to be used based on the importance of each feature.\n"
      ]
    },
    {
      "cell_type": "markdown",
      "metadata": {
        "id": "MttegoGd9b5B",
        "colab_type": "text"
      },
      "source": [
        "## Summary of Findings\n",
        "\n",
        "> - Target variables are not normally distributed\n",
        "> - Presence of outliers in both dependent and independent variables\n"
      ]
    },
    {
      "cell_type": "markdown",
      "metadata": {
        "id": "RY-wL1xs9kcZ",
        "colab_type": "text"
      },
      "source": [
        "## Conclusion\n",
        "\n",
        "> The models used cannot accurately predict the goals scored by either team as the accuracy registered is too low thus unreliable."
      ]
    }
  ]
}