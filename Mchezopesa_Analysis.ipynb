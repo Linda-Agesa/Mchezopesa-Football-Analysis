{
  "nbformat": 4,
  "nbformat_minor": 0,
  "metadata": {
    "colab": {
      "name": "Mchezopesa_Analysis.ipynb",
      "version": "0.3.2",
      "provenance": [],
      "include_colab_link": true
    },
    "kernelspec": {
      "name": "python3",
      "display_name": "Python 3"
    }
  },
  "cells": [
    {
      "cell_type": "markdown",
      "metadata": {
        "id": "view-in-github",
        "colab_type": "text"
      },
      "source": [
        "<a href=\"https://colab.research.google.com/github/Linda-Agesa/Mchezopesa-Football-Analysis/blob/master/Mchezopesa_Analysis.ipynb\" target=\"_parent\"><img src=\"https://colab.research.google.com/assets/colab-badge.svg\" alt=\"Open In Colab\"/></a>"
      ]
    },
    {
      "cell_type": "markdown",
      "metadata": {
        "id": "jq5tEj2-CfIR",
        "colab_type": "text"
      },
      "source": [
        "# Mchezopesa Football Analysis"
      ]
    },
    {
      "cell_type": "markdown",
      "metadata": {
        "id": "r3RDdHF27tMr",
        "colab_type": "text"
      },
      "source": [
        "## Context "
      ]
    },
    {
      "cell_type": "markdown",
      "metadata": {
        "id": "5VmhmyNR7tJR",
        "colab_type": "text"
      },
      "source": [
        "## Problem Statement"
      ]
    },
    {
      "cell_type": "markdown",
      "metadata": {
        "id": "IA6cSTpN7tGf",
        "colab_type": "text"
      },
      "source": [
        "## Research Question"
      ]
    },
    {
      "cell_type": "markdown",
      "metadata": {
        "id": "t--Sn9Db7tD5",
        "colab_type": "text"
      },
      "source": [
        "## Research Design"
      ]
    },
    {
      "cell_type": "markdown",
      "metadata": {
        "id": "KDT-IWaa7tBG",
        "colab_type": "text"
      },
      "source": [
        "## Metrics for Success"
      ]
    },
    {
      "cell_type": "markdown",
      "metadata": {
        "id": "tGLUYRAR7s-K",
        "colab_type": "text"
      },
      "source": [
        "## Project Plan"
      ]
    },
    {
      "cell_type": "markdown",
      "metadata": {
        "id": "Bq33rota7s6y",
        "colab_type": "text"
      },
      "source": [
        "## Loading Our Libraries and Files"
      ]
    },
    {
      "cell_type": "markdown",
      "metadata": {
        "id": "9I2KsS8L7swR",
        "colab_type": "text"
      },
      "source": [
        "## Analysis"
      ]
    },
    {
      "cell_type": "code",
      "metadata": {
        "id": "vPq1XoY-7p5C",
        "colab_type": "code",
        "colab": {}
      },
      "source": [
        ""
      ],
      "execution_count": 0,
      "outputs": []
    },
    {
      "cell_type": "markdown",
      "metadata": {
        "id": "6haqGBbA9Rqx",
        "colab_type": "text"
      },
      "source": [
        "## Implementing the Solution"
      ]
    },
    {
      "cell_type": "markdown",
      "metadata": {
        "id": "jhYREVJL9XEF",
        "colab_type": "text"
      },
      "source": [
        "## Challenging the solution"
      ]
    },
    {
      "cell_type": "code",
      "metadata": {
        "id": "KSvdS_fX9t5I",
        "colab_type": "code",
        "colab": {}
      },
      "source": [
        ""
      ],
      "execution_count": 0,
      "outputs": []
    },
    {
      "cell_type": "markdown",
      "metadata": {
        "id": "MttegoGd9b5B",
        "colab_type": "text"
      },
      "source": [
        "## Summary of Findings"
      ]
    },
    {
      "cell_type": "markdown",
      "metadata": {
        "id": "RY-wL1xs9kcZ",
        "colab_type": "text"
      },
      "source": [
        "## Conclusion"
      ]
    },
    {
      "cell_type": "markdown",
      "metadata": {
        "id": "Jj7d_Q_F9rbS",
        "colab_type": "text"
      },
      "source": [
        "## Next Steps"
      ]
    }
  ]
}